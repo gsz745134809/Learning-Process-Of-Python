{
 "cells": [
  {
   "cell_type": "markdown",
   "metadata": {},
   "source": [
    "了解了Ajax的分析方式和抓取方式之后，知道了这是JavaScript动态渲染页面的一种情形，通过直接分析Ajax，我们仍然可以借助requests或urllib来实现数据爬取。\n",
    "\n",
    "---\n",
    "不过JavaScript动态渲染的页面不止Ajax这一种。\n",
    "\n",
    "---\n",
    "比如中国青年网（详见 http://news.youth.cn/gn/ ），它的分页部分是由JavaScript生成的，并非原始HTML代码，这其中并不包含Ajax请求。比如ECharts的官方实例（详见 http://echarts.baidu.com/demo.html#bar-negative） ，其图形都是经过JavaScript计算之后生成的。再有淘宝这种页面，它即使是Ajax获取的数据，但是其Ajax接口含有很多加密参数，我们难以直接找出其规律，也很难直接分析Ajax来抓取。\n",
    "\n",
    "---\n",
    "为了解决这些问题，我们可以直接使用模拟浏览器运行的方式来实现，这样就可以做到在浏览器中看到是什么样，抓取的源码就是什么样，也就是可见即可爬。这样我们就不用再去管网页内部的JavaScript用了什么算法渲染页面，不用管网页后台的Ajax接口到底有哪些参数。\n",
    "\n",
    "---\n",
    "Python提供了许多浏览器运行的库，如Selenium、Splash、PyV8、Ghost等。本章中，我们来介绍一下Selenium和Splash的用法。有了他们，就不用再为动态渲染的页面发愁了。"
   ]
  },
  {
   "cell_type": "code",
   "execution_count": null,
   "metadata": {},
   "outputs": [],
   "source": []
  },
  {
   "cell_type": "markdown",
   "metadata": {},
   "source": [
    "# 1、Selenium的使用\n",
    "---\n",
    "Selenium是一个自动化测试工具，利用它可以驱动浏览器执行特定的动作，如点击、下拉等操作，同时还可以获取浏览器当前呈现的页面的源代码，做到可见即可爬。对于一些JavaScript动态渲染的页面来说，此种抓取方式非常有效。\n",
    "\n",
    "#### 1、准备工作\n",
    "---\n",
    "本节以Chrome为例来讲解Selenium的用法。在开始之前，先安装Chrome浏览器并配置好了ChromeDriver。还要正确安装好Python的Selenium库。"
   ]
  },
  {
   "cell_type": "markdown",
   "metadata": {},
   "source": [
    "#### 2、基本使用\n",
    "---\n",
    "首先大体看一下Selenium有一些怎样的功能。代码如下："
   ]
  },
  {
   "cell_type": "code",
   "execution_count": 2,
   "metadata": {
    "ExecuteTime": {
     "end_time": "2019-04-27T08:29:22.009533Z",
     "start_time": "2019-04-27T08:29:12.030127Z"
    },
    "scrolled": false
   },
   "outputs": [
    {
     "name": "stdout",
     "output_type": "stream",
     "text": [
      "https://www.baidu.com/s?ie=utf-8&f=8&rsv_bp=1&rsv_idx=1&tn=baidu&wd=Python&rsv_pq=832b77d500021d63&rsv_t=06e3UNnh%2FmTwNPIwtrqWDLxMVVVsqO0eCzATtQGq34dNGidpBV0gRKCGjBw&rqlang=cn&rsv_enter=1&rsv_sug3=6&rsv_sug2=0&inputT=95&rsv_sug4=95\n",
      "[{'domain': '.baidu.com', 'httpOnly': False, 'name': 'H_PS_PSSID', 'path': '/', 'secure': False, 'value': '1428_28940_21123_28722_28833_28584_26350'}, {'domain': '.baidu.com', 'httpOnly': False, 'name': 'delPer', 'path': '/', 'secure': False, 'value': '0'}, {'domain': '.baidu.com', 'expiry': 3703837404.740027, 'httpOnly': False, 'name': 'BAIDUID', 'path': '/', 'secure': False, 'value': '6AA97193AECA12C394E02E9310292FDC:FG=1'}, {'domain': '.baidu.com', 'expiry': 3703837404.740055, 'httpOnly': False, 'name': 'BIDUPSID', 'path': '/', 'secure': False, 'value': '6AA97193AECA12C394E02E9310292FDC'}, {'domain': '.baidu.com', 'expiry': 3703837404.740068, 'httpOnly': False, 'name': 'PSTM', 'path': '/', 'secure': False, 'value': '1556353757'}, {'domain': 'www.baidu.com', 'httpOnly': False, 'name': 'BD_HOME', 'path': '/', 'secure': False, 'value': '0'}, {'domain': '.baidu.com', 'expiry': 1556440158.569361, 'httpOnly': False, 'name': 'BDORZ', 'path': '/', 'secure': False, 'value': 'B490B5EBF6F3CD402E515D22BCDA1598'}, {'domain': 'www.baidu.com', 'expiry': 1557217758, 'httpOnly': False, 'name': 'BD_UPN', 'path': '/', 'secure': False, 'value': '12314753'}, {'domain': 'www.baidu.com', 'httpOnly': False, 'name': 'BD_CK_SAM', 'path': '/', 'secure': False, 'value': '1'}, {'domain': '.baidu.com', 'httpOnly': False, 'name': 'PSINO', 'path': '/', 'secure': False, 'value': '7'}, {'domain': 'www.baidu.com', 'expiry': 1556356351, 'httpOnly': False, 'name': 'H_PS_645EC', 'path': '/', 'secure': False, 'value': 'aa6b4gqZNECpIhlN9UYGFEii13%2F%2BtH1Nkr2mVyQT2tPFSnnwQLuwdzks8Vc'}]\n"
     ]
    }
   ],
   "source": [
    "from selenium import webdriver\n",
    "from selenium.webdriver.common.by import By\n",
    "from selenium.webdriver.common.keys import Keys\n",
    "from selenium.webdriver.support import expected_conditions as EC\n",
    "from selenium.webdriver.support.wait import WebDriverWait\n",
    "\n",
    "browser = webdriver.Chrome()\n",
    "try:\n",
    "    browser.get('http://www.baidu.com')\n",
    "    input = browser.find_element_by_id('kw')\n",
    "    input.send_keys('Python')\n",
    "    input.send_keys(Keys.ENTER)\n",
    "    wait = WebDriverWait(browser, 10)\n",
    "    wait.until(EC.presence_of_element_located((By.ID, 'content_left')))\n",
    "    print(browser.current_url)\n",
    "    print(browser.get_cookies())\n",
    "#     print(browser.page_source)\n",
    "finally:\n",
    "    browser.close()"
   ]
  },
  {
   "cell_type": "markdown",
   "metadata": {},
   "source": [
    "上面代码会输出当前的URL、当前的Cookies和网页源代码"
   ]
  },
  {
   "cell_type": "markdown",
   "metadata": {},
   "source": [
    "#### 3、声明浏览器对象\n",
    "---\n",
    "Selenium支持非常多的浏览器，如Chrome、Firefox、Edge等，还有Android、BlackBerry等手机端的浏览器。另外，也支持无界面浏览器PhantomJS\n",
    "---\n",
    "此外，我们可以使用如下方式初始化："
   ]
  },
  {
   "cell_type": "code",
   "execution_count": null,
   "metadata": {},
   "outputs": [],
   "source": [
    "from selenium import webdriver\n",
    "\n",
    "browser = webdriver.Chrome()\n",
    "browser = webdriver.Firefox()\n",
    "browser = webdriver.Edge()\n",
    "browser = webdriver.PhantomJS()\n",
    "browser = webdriver.Safari()"
   ]
  },
  {
   "cell_type": "markdown",
   "metadata": {},
   "source": [
    "这样就完成了浏览器对象的初始化并将其赋值为browser对象。接下来，我们要做的就是调用browser对象，让其执行各个动作以模拟浏览器操作。"
   ]
  },
  {
   "cell_type": "markdown",
   "metadata": {},
   "source": [
    "#### 4、访问页面\n",
    "---\n",
    "我们可以用get()方法来请求网页，参数传入链接URL即可。比如，这里用get()方法访问淘宝，然后打印出源代码，代码如下："
   ]
  },
  {
   "cell_type": "code",
   "execution_count": 3,
   "metadata": {
    "ExecuteTime": {
     "end_time": "2019-04-27T08:30:01.025831Z",
     "start_time": "2019-04-27T08:29:43.789464Z"
    }
   },
   "outputs": [
    {
     "ename": "SessionNotCreatedException",
     "evalue": "Message: session not created\nfrom chrome not reachable\n  (Session info: chrome=72.0.3626.121)\n  (Driver info: chromedriver=72.0.3626.69 (3c16f8a135abc0d4da2dff33804db79b849a7c38),platform=Windows NT 10.0.17134 x86_64)\n",
     "output_type": "error",
     "traceback": [
      "\u001b[1;31m---------------------------------------------------------------------------\u001b[0m",
      "\u001b[1;31mSessionNotCreatedException\u001b[0m                Traceback (most recent call last)",
      "\u001b[1;32m<ipython-input-3-0d6aaf1ee939>\u001b[0m in \u001b[0;36m<module>\u001b[1;34m\u001b[0m\n\u001b[0;32m      1\u001b[0m \u001b[1;32mfrom\u001b[0m \u001b[0mselenium\u001b[0m \u001b[1;32mimport\u001b[0m \u001b[0mwebdriver\u001b[0m\u001b[1;33m\u001b[0m\u001b[1;33m\u001b[0m\u001b[0m\n\u001b[0;32m      2\u001b[0m \u001b[1;33m\u001b[0m\u001b[0m\n\u001b[1;32m----> 3\u001b[1;33m \u001b[0mbrowser\u001b[0m \u001b[1;33m=\u001b[0m \u001b[0mwebdriver\u001b[0m\u001b[1;33m.\u001b[0m\u001b[0mChrome\u001b[0m\u001b[1;33m(\u001b[0m\u001b[1;33m)\u001b[0m\u001b[1;33m\u001b[0m\u001b[1;33m\u001b[0m\u001b[0m\n\u001b[0m\u001b[0;32m      4\u001b[0m \u001b[0mbrowser\u001b[0m\u001b[1;33m.\u001b[0m\u001b[0mget\u001b[0m\u001b[1;33m(\u001b[0m\u001b[1;34m'https://www.taobao.com'\u001b[0m\u001b[1;33m)\u001b[0m\u001b[1;33m\u001b[0m\u001b[1;33m\u001b[0m\u001b[0m\n\u001b[0;32m      5\u001b[0m \u001b[1;31m# print(browser.page_source)\u001b[0m\u001b[1;33m\u001b[0m\u001b[1;33m\u001b[0m\u001b[1;33m\u001b[0m\u001b[0m\n",
      "\u001b[1;32mC:\\anoconda\\lib\\site-packages\\selenium\\webdriver\\chrome\\webdriver.py\u001b[0m in \u001b[0;36m__init__\u001b[1;34m(self, executable_path, port, options, service_args, desired_capabilities, service_log_path, chrome_options, keep_alive)\u001b[0m\n\u001b[0;32m     79\u001b[0m                     \u001b[0mremote_server_addr\u001b[0m\u001b[1;33m=\u001b[0m\u001b[0mself\u001b[0m\u001b[1;33m.\u001b[0m\u001b[0mservice\u001b[0m\u001b[1;33m.\u001b[0m\u001b[0mservice_url\u001b[0m\u001b[1;33m,\u001b[0m\u001b[1;33m\u001b[0m\u001b[1;33m\u001b[0m\u001b[0m\n\u001b[0;32m     80\u001b[0m                     keep_alive=keep_alive),\n\u001b[1;32m---> 81\u001b[1;33m                 desired_capabilities=desired_capabilities)\n\u001b[0m\u001b[0;32m     82\u001b[0m         \u001b[1;32mexcept\u001b[0m \u001b[0mException\u001b[0m\u001b[1;33m:\u001b[0m\u001b[1;33m\u001b[0m\u001b[1;33m\u001b[0m\u001b[0m\n\u001b[0;32m     83\u001b[0m             \u001b[0mself\u001b[0m\u001b[1;33m.\u001b[0m\u001b[0mquit\u001b[0m\u001b[1;33m(\u001b[0m\u001b[1;33m)\u001b[0m\u001b[1;33m\u001b[0m\u001b[1;33m\u001b[0m\u001b[0m\n",
      "\u001b[1;32mC:\\anoconda\\lib\\site-packages\\selenium\\webdriver\\remote\\webdriver.py\u001b[0m in \u001b[0;36m__init__\u001b[1;34m(self, command_executor, desired_capabilities, browser_profile, proxy, keep_alive, file_detector, options)\u001b[0m\n\u001b[0;32m    155\u001b[0m             warnings.warn(\"Please use FirefoxOptions to set browser profile\",\n\u001b[0;32m    156\u001b[0m                           DeprecationWarning, stacklevel=2)\n\u001b[1;32m--> 157\u001b[1;33m         \u001b[0mself\u001b[0m\u001b[1;33m.\u001b[0m\u001b[0mstart_session\u001b[0m\u001b[1;33m(\u001b[0m\u001b[0mcapabilities\u001b[0m\u001b[1;33m,\u001b[0m \u001b[0mbrowser_profile\u001b[0m\u001b[1;33m)\u001b[0m\u001b[1;33m\u001b[0m\u001b[1;33m\u001b[0m\u001b[0m\n\u001b[0m\u001b[0;32m    158\u001b[0m         \u001b[0mself\u001b[0m\u001b[1;33m.\u001b[0m\u001b[0m_switch_to\u001b[0m \u001b[1;33m=\u001b[0m \u001b[0mSwitchTo\u001b[0m\u001b[1;33m(\u001b[0m\u001b[0mself\u001b[0m\u001b[1;33m)\u001b[0m\u001b[1;33m\u001b[0m\u001b[1;33m\u001b[0m\u001b[0m\n\u001b[0;32m    159\u001b[0m         \u001b[0mself\u001b[0m\u001b[1;33m.\u001b[0m\u001b[0m_mobile\u001b[0m \u001b[1;33m=\u001b[0m \u001b[0mMobile\u001b[0m\u001b[1;33m(\u001b[0m\u001b[0mself\u001b[0m\u001b[1;33m)\u001b[0m\u001b[1;33m\u001b[0m\u001b[1;33m\u001b[0m\u001b[0m\n",
      "\u001b[1;32mC:\\anoconda\\lib\\site-packages\\selenium\\webdriver\\remote\\webdriver.py\u001b[0m in \u001b[0;36mstart_session\u001b[1;34m(self, capabilities, browser_profile)\u001b[0m\n\u001b[0;32m    250\u001b[0m         parameters = {\"capabilities\": w3c_caps,\n\u001b[0;32m    251\u001b[0m                       \"desiredCapabilities\": capabilities}\n\u001b[1;32m--> 252\u001b[1;33m         \u001b[0mresponse\u001b[0m \u001b[1;33m=\u001b[0m \u001b[0mself\u001b[0m\u001b[1;33m.\u001b[0m\u001b[0mexecute\u001b[0m\u001b[1;33m(\u001b[0m\u001b[0mCommand\u001b[0m\u001b[1;33m.\u001b[0m\u001b[0mNEW_SESSION\u001b[0m\u001b[1;33m,\u001b[0m \u001b[0mparameters\u001b[0m\u001b[1;33m)\u001b[0m\u001b[1;33m\u001b[0m\u001b[1;33m\u001b[0m\u001b[0m\n\u001b[0m\u001b[0;32m    253\u001b[0m         \u001b[1;32mif\u001b[0m \u001b[1;34m'sessionId'\u001b[0m \u001b[1;32mnot\u001b[0m \u001b[1;32min\u001b[0m \u001b[0mresponse\u001b[0m\u001b[1;33m:\u001b[0m\u001b[1;33m\u001b[0m\u001b[1;33m\u001b[0m\u001b[0m\n\u001b[0;32m    254\u001b[0m             \u001b[0mresponse\u001b[0m \u001b[1;33m=\u001b[0m \u001b[0mresponse\u001b[0m\u001b[1;33m[\u001b[0m\u001b[1;34m'value'\u001b[0m\u001b[1;33m]\u001b[0m\u001b[1;33m\u001b[0m\u001b[1;33m\u001b[0m\u001b[0m\n",
      "\u001b[1;32mC:\\anoconda\\lib\\site-packages\\selenium\\webdriver\\remote\\webdriver.py\u001b[0m in \u001b[0;36mexecute\u001b[1;34m(self, driver_command, params)\u001b[0m\n\u001b[0;32m    319\u001b[0m         \u001b[0mresponse\u001b[0m \u001b[1;33m=\u001b[0m \u001b[0mself\u001b[0m\u001b[1;33m.\u001b[0m\u001b[0mcommand_executor\u001b[0m\u001b[1;33m.\u001b[0m\u001b[0mexecute\u001b[0m\u001b[1;33m(\u001b[0m\u001b[0mdriver_command\u001b[0m\u001b[1;33m,\u001b[0m \u001b[0mparams\u001b[0m\u001b[1;33m)\u001b[0m\u001b[1;33m\u001b[0m\u001b[1;33m\u001b[0m\u001b[0m\n\u001b[0;32m    320\u001b[0m         \u001b[1;32mif\u001b[0m \u001b[0mresponse\u001b[0m\u001b[1;33m:\u001b[0m\u001b[1;33m\u001b[0m\u001b[1;33m\u001b[0m\u001b[0m\n\u001b[1;32m--> 321\u001b[1;33m             \u001b[0mself\u001b[0m\u001b[1;33m.\u001b[0m\u001b[0merror_handler\u001b[0m\u001b[1;33m.\u001b[0m\u001b[0mcheck_response\u001b[0m\u001b[1;33m(\u001b[0m\u001b[0mresponse\u001b[0m\u001b[1;33m)\u001b[0m\u001b[1;33m\u001b[0m\u001b[1;33m\u001b[0m\u001b[0m\n\u001b[0m\u001b[0;32m    322\u001b[0m             response['value'] = self._unwrap_value(\n\u001b[0;32m    323\u001b[0m                 response.get('value', None))\n",
      "\u001b[1;32mC:\\anoconda\\lib\\site-packages\\selenium\\webdriver\\remote\\errorhandler.py\u001b[0m in \u001b[0;36mcheck_response\u001b[1;34m(self, response)\u001b[0m\n\u001b[0;32m    240\u001b[0m                 \u001b[0malert_text\u001b[0m \u001b[1;33m=\u001b[0m \u001b[0mvalue\u001b[0m\u001b[1;33m[\u001b[0m\u001b[1;34m'alert'\u001b[0m\u001b[1;33m]\u001b[0m\u001b[1;33m.\u001b[0m\u001b[0mget\u001b[0m\u001b[1;33m(\u001b[0m\u001b[1;34m'text'\u001b[0m\u001b[1;33m)\u001b[0m\u001b[1;33m\u001b[0m\u001b[1;33m\u001b[0m\u001b[0m\n\u001b[0;32m    241\u001b[0m             \u001b[1;32mraise\u001b[0m \u001b[0mexception_class\u001b[0m\u001b[1;33m(\u001b[0m\u001b[0mmessage\u001b[0m\u001b[1;33m,\u001b[0m \u001b[0mscreen\u001b[0m\u001b[1;33m,\u001b[0m \u001b[0mstacktrace\u001b[0m\u001b[1;33m,\u001b[0m \u001b[0malert_text\u001b[0m\u001b[1;33m)\u001b[0m\u001b[1;33m\u001b[0m\u001b[1;33m\u001b[0m\u001b[0m\n\u001b[1;32m--> 242\u001b[1;33m         \u001b[1;32mraise\u001b[0m \u001b[0mexception_class\u001b[0m\u001b[1;33m(\u001b[0m\u001b[0mmessage\u001b[0m\u001b[1;33m,\u001b[0m \u001b[0mscreen\u001b[0m\u001b[1;33m,\u001b[0m \u001b[0mstacktrace\u001b[0m\u001b[1;33m)\u001b[0m\u001b[1;33m\u001b[0m\u001b[1;33m\u001b[0m\u001b[0m\n\u001b[0m\u001b[0;32m    243\u001b[0m \u001b[1;33m\u001b[0m\u001b[0m\n\u001b[0;32m    244\u001b[0m     \u001b[1;32mdef\u001b[0m \u001b[0m_value_or_default\u001b[0m\u001b[1;33m(\u001b[0m\u001b[0mself\u001b[0m\u001b[1;33m,\u001b[0m \u001b[0mobj\u001b[0m\u001b[1;33m,\u001b[0m \u001b[0mkey\u001b[0m\u001b[1;33m,\u001b[0m \u001b[0mdefault\u001b[0m\u001b[1;33m)\u001b[0m\u001b[1;33m:\u001b[0m\u001b[1;33m\u001b[0m\u001b[1;33m\u001b[0m\u001b[0m\n",
      "\u001b[1;31mSessionNotCreatedException\u001b[0m: Message: session not created\nfrom chrome not reachable\n  (Session info: chrome=72.0.3626.121)\n  (Driver info: chromedriver=72.0.3626.69 (3c16f8a135abc0d4da2dff33804db79b849a7c38),platform=Windows NT 10.0.17134 x86_64)\n"
     ]
    }
   ],
   "source": [
    "from selenium import webdriver\n",
    "\n",
    "browser = webdriver.Chrome()\n",
    "browser.get('https://www.taobao.com')\n",
    "# print(browser.page_source)\n",
    "browser.close()\n"
   ]
  },
  {
   "cell_type": "markdown",
   "metadata": {},
   "source": [
    "运行上述代码后发现，弹出了Chrome浏览器并且自动访问了淘宝，然后控制台输出了淘宝页面的源代码，随后浏览器关闭。\n",
    "通过这几行简单的代码，我们可以实现浏览器的驱动并获取网页源码，非常便捷。"
   ]
  },
  {
   "cell_type": "markdown",
   "metadata": {},
   "source": [
    "#### 5、查找结点\n",
    "---\n",
    "Selenium可以驱动浏览器完成各种操作，比如填充表单、模拟点击等。比如，我们想要完成向某个输入框输入文字的操作，总需要知道中国输入框在哪里吧？而Selenium提供了一系列查找节点的方法，我们可以用这些方法来获取想要的节点，以便下一步执行一些动作或提取信息。\n",
    "---\n",
    "+ 单个节点\n",
    "比如，想要从淘宝页面中提取搜索框这个节点，首先要观察它的源代码，可以发现，它的id是q，name也是q。此外，还有许多其他属性，此时我们就可以用多种方式获取它了。比如，find_element_by_name()是根据name值获取，find_element_by_id()是根据id获取。另外，还有根据XPath、CSS选择器等获取的方式。\n",
    "用代码实现如下："
   ]
  },
  {
   "cell_type": "code",
   "execution_count": 3,
   "metadata": {
    "ExecuteTime": {
     "end_time": "2019-04-18T08:12:55.887756Z",
     "start_time": "2019-04-18T08:12:50.623149Z"
    }
   },
   "outputs": [
    {
     "name": "stdout",
     "output_type": "stream",
     "text": [
      "<selenium.webdriver.remote.webelement.WebElement (session=\"b2dafbab5c1cfec0d68d452eba56a69d\", element=\"0.8487257467283305-1\")> <selenium.webdriver.remote.webelement.WebElement (session=\"b2dafbab5c1cfec0d68d452eba56a69d\", element=\"0.8487257467283305-1\")> <selenium.webdriver.remote.webelement.WebElement (session=\"b2dafbab5c1cfec0d68d452eba56a69d\", element=\"0.8487257467283305-1\")>\n"
     ]
    }
   ],
   "source": [
    "from selenium import webdriver\n",
    "\n",
    "browser = webdriver.Chrome()\n",
    "browser.get('https://www.taobao.com')\n",
    "input_first = browser.find_element_by_id('q')\n",
    "input_second = browser.find_element_by_css_selector('#q')\n",
    "input_third = browser.find_element_by_xpath('//*[@id=\"q\"]')\n",
    "print(input_first, input_second, input_third)\n",
    "browser.close()"
   ]
  },
  {
   "cell_type": "markdown",
   "metadata": {},
   "source": [
    "以上代码用三种方式获取输入框，分别是根据ID、CSS选择器和XPath获取，它们返回的结果完全一致。\n",
    "\n",
    "---\n",
    "可以看到，这三个节点都是WebElement类型的，是完全一致的"
   ]
  },
  {
   "cell_type": "code",
   "execution_count": null,
   "metadata": {},
   "outputs": [],
   "source": [
    "# 这里列出所有获取单个节点的方法\n",
    "find_element_by_id\n",
    "find_element_by_name\n",
    "find_element_by_xpath\n",
    "find_element_by_link_text\n",
    "find_element_by_partial_link_text\n",
    "find_element_by_tag_name\n",
    "find_element_by_class_name\n",
    "find_element_by_css_selector"
   ]
  },
  {
   "cell_type": "markdown",
   "metadata": {},
   "source": [
    "另外，Selenium还提供了通用方法find_element()，它需要传入两个参数：查找方式By和值。实际上，它就是find_element_by_id()这种方法的通用函数版本，比如find_element_by_id(id)就等价于find_element(By.ID, id)，二者得到的结果完全一致。我们用代码实现一下："
   ]
  },
  {
   "cell_type": "code",
   "execution_count": null,
   "metadata": {},
   "outputs": [],
   "source": [
    "from selenium import webdriver\n",
    "from selenium.webdriver.common.by import By\n",
    "\n",
    "browser = webdriver.Chrome()\n",
    "browser.get('https://www.taobao.com')\n",
    "input_first = browser.find_element(By.ID, 'q')\n",
    "print(input_first)\n",
    "browser.close()\n",
    "\n",
    "# 实际上，这种查找方式的功能和上面列举的查找函数完全一致，不过参数更加灵活"
   ]
  },
  {
   "cell_type": "markdown",
   "metadata": {},
   "source": [
    "+ 多个节点\n",
    "\n",
    "---\n",
    "如果查找的目标在网页中只有一个，那么完全可以用find_element()方法。但如果有多个节点，再用find_element()方法查找，就只能得到第一个节点了。如果要查找所有满足条件的节点，需要用find_elements()这样的方法。注意，在这个方法的名称中，element多了一个s，注意区分。\n",
    "\n",
    "---\n",
    "比如，要查找淘宝左侧导航栏的所有条目。实现如下："
   ]
  },
  {
   "cell_type": "code",
   "execution_count": 5,
   "metadata": {
    "ExecuteTime": {
     "end_time": "2019-04-18T08:46:16.424057Z",
     "start_time": "2019-04-18T08:46:08.224613Z"
    }
   },
   "outputs": [
    {
     "name": "stdout",
     "output_type": "stream",
     "text": [
      "[<selenium.webdriver.remote.webelement.WebElement (session=\"03594a73bfd0da9c8d4f3cb12ea15940\", element=\"0.2064880410307366-1\")>, <selenium.webdriver.remote.webelement.WebElement (session=\"03594a73bfd0da9c8d4f3cb12ea15940\", element=\"0.2064880410307366-2\")>, <selenium.webdriver.remote.webelement.WebElement (session=\"03594a73bfd0da9c8d4f3cb12ea15940\", element=\"0.2064880410307366-3\")>, <selenium.webdriver.remote.webelement.WebElement (session=\"03594a73bfd0da9c8d4f3cb12ea15940\", element=\"0.2064880410307366-4\")>, <selenium.webdriver.remote.webelement.WebElement (session=\"03594a73bfd0da9c8d4f3cb12ea15940\", element=\"0.2064880410307366-5\")>, <selenium.webdriver.remote.webelement.WebElement (session=\"03594a73bfd0da9c8d4f3cb12ea15940\", element=\"0.2064880410307366-6\")>, <selenium.webdriver.remote.webelement.WebElement (session=\"03594a73bfd0da9c8d4f3cb12ea15940\", element=\"0.2064880410307366-7\")>, <selenium.webdriver.remote.webelement.WebElement (session=\"03594a73bfd0da9c8d4f3cb12ea15940\", element=\"0.2064880410307366-8\")>, <selenium.webdriver.remote.webelement.WebElement (session=\"03594a73bfd0da9c8d4f3cb12ea15940\", element=\"0.2064880410307366-9\")>, <selenium.webdriver.remote.webelement.WebElement (session=\"03594a73bfd0da9c8d4f3cb12ea15940\", element=\"0.2064880410307366-10\")>, <selenium.webdriver.remote.webelement.WebElement (session=\"03594a73bfd0da9c8d4f3cb12ea15940\", element=\"0.2064880410307366-11\")>, <selenium.webdriver.remote.webelement.WebElement (session=\"03594a73bfd0da9c8d4f3cb12ea15940\", element=\"0.2064880410307366-12\")>, <selenium.webdriver.remote.webelement.WebElement (session=\"03594a73bfd0da9c8d4f3cb12ea15940\", element=\"0.2064880410307366-13\")>, <selenium.webdriver.remote.webelement.WebElement (session=\"03594a73bfd0da9c8d4f3cb12ea15940\", element=\"0.2064880410307366-14\")>, <selenium.webdriver.remote.webelement.WebElement (session=\"03594a73bfd0da9c8d4f3cb12ea15940\", element=\"0.2064880410307366-15\")>, <selenium.webdriver.remote.webelement.WebElement (session=\"03594a73bfd0da9c8d4f3cb12ea15940\", element=\"0.2064880410307366-16\")>]\n"
     ]
    }
   ],
   "source": [
    "from selenium import webdriver\n",
    "\n",
    "browser = webdriver.Chrome()\n",
    "browser.get('https://www.taobao.com')\n",
    "lis = browser.find_elements_by_css_selector('.service-bd li')\n",
    "print(lis)\n",
    "browser.close()\n"
   ]
  },
  {
   "cell_type": "markdown",
   "metadata": {},
   "source": [
    "可以看到，上面代码执行后得到的内容变成了列表类型，列表中的每个节点都是WebElement类型。\n",
    "\n",
    "---\n",
    "也就是说，如果我们用find_element()方法，只能获取匹配的第一个节点，结果是WebElement类型。如果用find_elements()方法，则结果是列表类型，列表中的每个节点都是WebElement类型。"
   ]
  },
  {
   "cell_type": "code",
   "execution_count": null,
   "metadata": {},
   "outputs": [],
   "source": [
    "# 这里列出所有获取多个节点的方法：\n",
    "find_elements_by_id\n",
    "find_elements_by_name\n",
    "find_elements_by_xpath\n",
    "find_elements_by_link_text\n",
    "find_elements_by_partial_link_text\n",
    "find_elements_by_tag_name\n",
    "find_elements_by_class_name\n",
    "find_elements_by_css_selector"
   ]
  },
  {
   "cell_type": "markdown",
   "metadata": {},
   "source": [
    "当然，我们也可以直接用find_elements()方法来选择，这时可以这样写："
   ]
  },
  {
   "cell_type": "code",
   "execution_count": null,
   "metadata": {},
   "outputs": [],
   "source": [
    "lis = browser.find_elements(By.CSS_SELECTOR, '.service-bd li')\n",
    "# 结果是完全一致的"
   ]
  },
  {
   "cell_type": "markdown",
   "metadata": {},
   "source": [
    "#### 6、节点交互\n",
    "---\n",
    "Selenium可以驱动浏览器来执行一些操作，也就是说可以让浏览器模拟一些动作。比较常见的用法有：输入文字时用send_keys()方法，清空文字时用clear()方法，点击按钮时用click()方法，示例如下："
   ]
  },
  {
   "cell_type": "code",
   "execution_count": 6,
   "metadata": {
    "ExecuteTime": {
     "end_time": "2019-04-18T09:04:12.102052Z",
     "start_time": "2019-04-18T09:04:02.048824Z"
    }
   },
   "outputs": [],
   "source": [
    "from selenium import webdriver\n",
    "import time\n",
    "\n",
    "browser = webdriver.Chrome()\n",
    "browser.get('https://www.taobao.com')\n",
    "input = browser.find_element_by_id('q')\n",
    "input.send_keys('iPhone')\n",
    "time.sleep(1)\n",
    "input.clear()\n",
    "input.send_keys('iPad')\n",
    "button = browser.find_element_by_class_name('btn-search')\n",
    "button.click()\n",
    "\n"
   ]
  },
  {
   "cell_type": "markdown",
   "metadata": {},
   "source": [
    "以上代码首先驱动浏览器打开淘宝，然后用find_element_by_id()方法获取输入框然后用send_keys()方法输入iPhone文字，等待一秒后用clear()方法清空输入框，再次调用send_keys()方法输入iPad文字，之后再用find_element_by_class_name()方法获取搜索按钮，最后调用click()方法完成搜索动作。\n",
    "（以上代码需要登录淘宝才能运行、、、）\n",
    "通过上面的方法，我们就完成了一些常见的节点的动作操作，更多的操作可以参见官方文档的交互动作介绍： http://selenium-python.readthedocs.io/api.html#module-selenium.webdriver.remote.webelement"
   ]
  },
  {
   "cell_type": "markdown",
   "metadata": {},
   "source": [
    "#### 7、动作链\n",
    "\n",
    "---\n",
    "在上面的实例中，一些交互动作都是针对某个节点执行的。比如，对于输入框，我们就调用它的输入文字和清空文字的方法；对于按钮，就调用它的点击方法。其实，还有另外一些操作，它们没有特定的执行对象，比如鼠标拖拽、键盘按键等，这些动作用另一种方式来执行，那就是动作链。\n",
    "\n",
    "---\n",
    "比如，现在实现一个节点的拖拽动作，将某个节点从一处拖拽到另外一处，可以这样实现："
   ]
  },
  {
   "cell_type": "code",
   "execution_count": 8,
   "metadata": {
    "ExecuteTime": {
     "end_time": "2019-04-18T09:16:54.859088Z",
     "start_time": "2019-04-18T09:16:49.873194Z"
    }
   },
   "outputs": [
    {
     "name": "stderr",
     "output_type": "stream",
     "text": [
      "C:\\anoconda\\lib\\site-packages\\ipykernel_launcher.py:7: DeprecationWarning: use driver.switch_to.frame instead\n",
      "  import sys\n"
     ]
    }
   ],
   "source": [
    "from selenium import webdriver\n",
    "from selenium.webdriver import ActionChains\n",
    "\n",
    "browser = webdriver.Chrome()\n",
    "url = 'http://www.runoob.com/try/try.php?filename=jqueryui-api-droppable'\n",
    "browser.get(url)\n",
    "browser.switch_to_frame('iframeResult')\n",
    "source = browser.find_element_by_css_selector('#draggable')\n",
    "target = browser.find_element_by_css_selector('#droppable')\n",
    "actions = ActionChains(browser)\n",
    "actions.drag_and_drop(source, target)\n",
    "actions.perform()"
   ]
  },
  {
   "cell_type": "markdown",
   "metadata": {},
   "source": [
    "首先，打开网页中的一个拖拽实例，然后依次选中要拖拽的节点和拖拽到的目标节点，接着声明ActionChains对象并将其赋值为actions变量，然后通过actions变量的drag_and_drop()方法，再调用perform()方法执行动作，此时就完成了拖拽操作。\n",
    "\n",
    "---\n",
    "更多的动作链操作可以参考官方文档： http://selenium-python.readthedocs.io/api.html#module-selenium.webdriver.common.action_chains"
   ]
  },
  {
   "cell_type": "markdown",
   "metadata": {},
   "source": [
    "#### 8、执行JavaScript\n",
    "---\n",
    "对于某些操作，Selenium API并没有提供。比如，下拉进度条，它可以直接模拟运行JavaScript，此时使用execute_script()方法即可实现，代码如下："
   ]
  },
  {
   "cell_type": "code",
   "execution_count": 2,
   "metadata": {
    "ExecuteTime": {
     "end_time": "2019-04-19T03:22:53.419980Z",
     "start_time": "2019-04-19T03:22:48.206859Z"
    }
   },
   "outputs": [],
   "source": [
    "from selenium import webdriver\n",
    "\n",
    "browser = webdriver.Chrome()\n",
    "browser.get('https://www.zhihu.com/explore')\n",
    "browser.execute_script('window.scrollTo(0, document.body.scrollHeight)')\n",
    "browser.execute_script('alert(\"To Bottom\")')\n",
    "\n",
    "# 这里就利用execute_script()方法将进度条下拉到最底部，然后弹出alert提示框\n",
    "# 所以说有了这个方法，基本上API没有提供的所有功能都可以用执行JavaScript的方式来实现了。\n"
   ]
  },
  {
   "cell_type": "markdown",
   "metadata": {},
   "source": [
    "#### 9、获取结点信息\n",
    "---\n",
    "前面说过，通过page_source属性可以获取网页的源代码，接着就可以使用解析库（如正则表达式、Beautiful Soup、pyquery等）来提取信息了。\n",
    "\n",
    "---\n",
    "不过，既然Selenium已经提供了选择节点的方法，返回的是web Element类型，那么它也有相关的方法和属性来直接提取节点信息，如属性、文本等。这样的话，我们就可以不用通过解析源代码来提取信息了，非常方便。\n",
    "\n",
    "---\n",
    "接下来，就看看通过怎样的方式来获取节点信息吧。"
   ]
  },
  {
   "cell_type": "markdown",
   "metadata": {},
   "source": [
    "+ 获取属性\n",
    "---\n",
    "我们可以使用get_attribute()方法来获取节点的属性，但是其前提是先选中这个节点，示例如下："
   ]
  },
  {
   "cell_type": "code",
   "execution_count": 4,
   "metadata": {
    "ExecuteTime": {
     "end_time": "2019-04-19T03:36:27.380669Z",
     "start_time": "2019-04-19T03:36:22.349300Z"
    }
   },
   "outputs": [
    {
     "name": "stdout",
     "output_type": "stream",
     "text": [
      "<selenium.webdriver.remote.webelement.WebElement (session=\"8dc8a2081d6d205822b6552bf1d9cbd6\", element=\"0.7024030369066474-1\")>\n",
      "zu-top-link-logo\n"
     ]
    }
   ],
   "source": [
    "from selenium import webdriver\n",
    "\n",
    "browser = webdriver.Chrome()\n",
    "url = 'https://www.zhihu.com/explore'\n",
    "browser.get(url)\n",
    "logo = browser.find_element_by_id('zh-top-link-logo')\n",
    "print(logo)\n",
    "print(logo.get_attribute('class'))\n",
    "\n",
    "# 运行后，程序便会驱动浏览器打开知乎页面，然后获取知乎的logo节点，最后打印出它的class。\n",
    "\n",
    "# 输出结果如下：（通过get_attribute()方法，传入想要获取的属性名，就可以得到它的值了。）"
   ]
  },
  {
   "cell_type": "markdown",
   "metadata": {},
   "source": [
    "+ 获取文本值\n",
    "---\n",
    "每个WebElement节点都有text属性，直接调用这个属性就可以得到节点内部的文本信息，这相当于Beautiful Soup的get_text()方法、pyquery的text()方法，示例如下："
   ]
  },
  {
   "cell_type": "code",
   "execution_count": 5,
   "metadata": {
    "ExecuteTime": {
     "end_time": "2019-04-19T03:42:11.504989Z",
     "start_time": "2019-04-19T03:42:06.809232Z"
    }
   },
   "outputs": [
    {
     "name": "stdout",
     "output_type": "stream",
     "text": [
      "提问\n"
     ]
    }
   ],
   "source": [
    "from selenium import webdriver\n",
    "\n",
    "browser = webdriver.Chrome()\n",
    "url = 'https://www.zhihu.com/explore'\n",
    "browser.get(url)\n",
    "input = browser.find_element_by_class_name('zu-top-add-question')\n",
    "print(input.text)\n",
    "\n",
    "# 这里依然先打开知乎页面，然后获取“提问”按钮这个节点，再将其文本值打印出来。\n",
    "\n",
    "# 控制台的输出结果如下："
   ]
  },
  {
   "cell_type": "markdown",
   "metadata": {},
   "source": [
    "+ 获取id、位置、标签名和大小\n",
    "---\n",
    "另外，WebElement节点还有一些其他属性，比如id属性可以获取节点id，location属性可以获取该节点在页面中的相对位置，tag_name属性可以获取标签名称，size属性可以获取节点的大小，也就是宽高，这些属性有时候还是很有用的。示例如下："
   ]
  },
  {
   "cell_type": "code",
   "execution_count": 6,
   "metadata": {
    "ExecuteTime": {
     "end_time": "2019-04-19T03:48:17.625495Z",
     "start_time": "2019-04-19T03:48:12.946566Z"
    }
   },
   "outputs": [
    {
     "name": "stdout",
     "output_type": "stream",
     "text": [
      "0.6693156879391844-1\n",
      "{'x': 759, 'y': 7}\n",
      "button\n",
      "{'height': 32, 'width': 66}\n"
     ]
    }
   ],
   "source": [
    "from selenium import webdriver\n",
    "\n",
    "browser = webdriver.Chrome()\n",
    "url = 'https://www.zhihu.com/explore'\n",
    "browser.get(url)\n",
    "input = browser.find_element_by_class_name('zu-top-add-question')\n",
    "print(input.id)\n",
    "print(input.location)\n",
    "print(input.tag_name)\n",
    "print(input.size)\n",
    "\n",
    "# 这里首先获得“提问”按钮这个节点，然后调用其id、location、tag_name、size属性\n",
    "# 来获取对应的属性值。"
   ]
  },
  {
   "cell_type": "code",
   "execution_count": null,
   "metadata": {},
   "outputs": [],
   "source": []
  },
  {
   "cell_type": "markdown",
   "metadata": {},
   "source": [
    "#### 10、切换Frame\n",
    "---\n",
    "我们知道网页中有一种节点叫作iframe，也就是子Frame，相当于页面的子页面，它的结构和外部网页的结构完全一致。Selenium打开页面后，它默认是在父级Frame里面操作，而此时如果页面中还有子Frame，它是不能获取到子Frame里面的节点的。这时就选哟使用switch_to.frame()方法来切换Frame。示例如下："
   ]
  },
  {
   "cell_type": "code",
   "execution_count": 7,
   "metadata": {
    "ExecuteTime": {
     "end_time": "2019-04-19T04:09:42.111594Z",
     "start_time": "2019-04-19T04:09:37.913189Z"
    }
   },
   "outputs": [
    {
     "name": "stdout",
     "output_type": "stream",
     "text": [
      "NO LOGO\n",
      "<selenium.webdriver.remote.webelement.WebElement (session=\"ed4ac88f189ca6b1fe6a48486fe43803\", element=\"0.9360428002224679-2\")>\n",
      "RUNOOB.COM\n"
     ]
    }
   ],
   "source": [
    "import time\n",
    "from selenium import webdriver\n",
    "from selenium.common.exceptions import NoSuchElementException\n",
    "\n",
    "browser = webdriver.Chrome()\n",
    "url = 'http://www.runoob.com/try/try.php?filename=jqueryui-api-droppable'\n",
    "browser.get(url)\n",
    "browser.switch_to.frame('iframeResult')\n",
    "try:\n",
    "    logo = browser.find_element_by_class_name('logo')\n",
    "except NoSuchElementException :\n",
    "    print('NO LOGO')\n",
    "browser.switch_to.parent_frame()\n",
    "logo = browser.find_element_by_class_name('logo')\n",
    "print(logo)\n",
    "print(logo.text)"
   ]
  },
  {
   "cell_type": "markdown",
   "metadata": {},
   "source": [
    "这里还是以前面演示动作链操作的网页为实例，首先通过switch_to.frame()方法切换到子Frame里面，然后尝试获取子Frame里的logo节点（这里是不能找到的），如果找不到的话，就会抛出NoSuchElementException异常，异常被捕捉之后，就会输出NO LOGO。接下来，重新启动切换回父级Frame，然后再次重新获取节点，发现此时可以成功获取了。\n",
    "\n",
    "---\n",
    "所以，当页面中包含子Frame时，如果想获取子Frame中的节点，需要先调用switch_to.frame()方法切换到对应的Frame，然后再进行操作。"
   ]
  },
  {
   "cell_type": "code",
   "execution_count": null,
   "metadata": {},
   "outputs": [],
   "source": []
  },
  {
   "cell_type": "markdown",
   "metadata": {},
   "source": [
    "#### 11、延时等待\n",
    "---\n",
    "在Selenium中，get()方法会在网页框架加载结束后结束执行，此时如果获取page_source，可能并不是浏览器完全加载完成的页面，如果某些页面有额外的Ajax请求，我们在网页源代码中也不一定能成功获取到。所以，这里需要延时等待一定时间，确保节点已经加载出来。\n",
    "\n",
    "---\n",
    "这里等待的方式有两种：一种是隐式等待，一种是显式等待。\n",
    "\n",
    "---\n",
    "+ 隐式等待\n",
    "\n",
    "---\n",
    "当使用隐式等待执行测试的时候，如果Selenium没有在DOM中找到节点，将继续等待，超出设定时间后，则抛出找不到节点的异常。换句话说，当查找节点而节点并没有立即出现的时候，隐式等待将等待一段时间再查找DOM，默认的时间是0。示例如下："
   ]
  },
  {
   "cell_type": "code",
   "execution_count": 1,
   "metadata": {
    "ExecuteTime": {
     "end_time": "2019-04-19T07:12:18.580770Z",
     "start_time": "2019-04-19T07:12:07.063241Z"
    }
   },
   "outputs": [
    {
     "name": "stdout",
     "output_type": "stream",
     "text": [
      "<selenium.webdriver.remote.webelement.WebElement (session=\"0305a323f812b3d8d93aba366ade5d9e\", element=\"0.27542623151759815-1\")>\n"
     ]
    }
   ],
   "source": [
    "from selenium import webdriver\n",
    "\n",
    "browser = webdriver.Chrome()\n",
    "browser.implicitly_wait(10)\n",
    "browser.get('https://zhihu.com/explore')\n",
    "input = browser.find_element_by_class_name('zu-top-add-question')\n",
    "print(input)\n",
    "\n",
    "# 这里我们用implicitly_wait()方法实现了隐式等待"
   ]
  },
  {
   "cell_type": "markdown",
   "metadata": {},
   "source": [
    "+ 显式等待\n",
    "\n",
    "---\n",
    "隐式等待的效果其实并没有那么好，因为我们只规定了一个固定时间，而页面的加载时间会受到网络条件的影响。\n",
    "\n",
    "---\n",
    "这里还有一种更合适的显示等待方法，它指定要查找的节点，然后指定一个最长等待时间。如果再规定时间内加载出来了这个节点，就返回查找的节点；如果到了规定时间依然没有加载出该节点，则抛出超时异常。示例如下："
   ]
  },
  {
   "cell_type": "code",
   "execution_count": 2,
   "metadata": {
    "ExecuteTime": {
     "end_time": "2019-04-19T07:28:14.012666Z",
     "start_time": "2019-04-19T07:28:10.426283Z"
    }
   },
   "outputs": [
    {
     "name": "stdout",
     "output_type": "stream",
     "text": [
      "<selenium.webdriver.remote.webelement.WebElement (session=\"b30dd5ceed1de4c1e3d79040d78b2acc\", element=\"0.19326064689425348-1\")> <selenium.webdriver.remote.webelement.WebElement (session=\"b30dd5ceed1de4c1e3d79040d78b2acc\", element=\"0.19326064689425348-2\")>\n"
     ]
    }
   ],
   "source": [
    "from selenium import webdriver\n",
    "from selenium.webdriver.common.by import By\n",
    "from selenium.webdriver.support import expected_conditions as EC\n",
    "from selenium.webdriver.support.wait import WebDriverWait\n",
    "\n",
    "browser = webdriver.Chrome()\n",
    "browser.get('https://www.taobao.com/')\n",
    "wait = WebDriverWait(browser, 10)\n",
    "input = wait.until(EC.presence_of_element_located((By.ID, 'q')))\n",
    "button = wait.until(EC.element_to_be_clickable((By.CSS_SELECTOR, '.btn-search')))\n",
    "print(input, button)\n",
    "\n",
    "# 这里首先引入WebDriverWait这个对象，指定最长等待时间，然后调用它的until()方法，\n",
    "# 传入要等待条件expected_conditions。比如，这里传入了presence_of_element_located这\n",
    "# 个条件，代表节点出现的意思，其参数是节点的定位元组，也就是ID为q的节点搜索框。\n",
    "\n",
    "# 这样可以做到的效果就是，在10秒内如果出现ID为q的节点（即搜索框）成功加载出来，就返回\n",
    "# 该节点；如果超过10秒还没有加载出来，就抛出异常。\n",
    "\n",
    "# 对于按钮，可以更改一下等待条件，比如改为element_to_be_clickable，也就是可点击，所以\n",
    "# 查找按钮时查找CSS选择器为.btn-search的按钮，如果10秒内它是可点击的，也就是成功加载\n",
    "# 出来了，就返回这个按钮节点；如果超过10秒还是不可以点击，也就是没有加载出来，就抛出异常。\n",
    "\n",
    "# 运行代码，在网速较佳的情况下是可以成功加载出来的。\n",
    "# 输出如下："
   ]
  },
  {
   "cell_type": "markdown",
   "metadata": {},
   "source": [
    "更多关于等待条件的参数及用法，可以参考官方文档：http://selenium-python.readthedocs.io/api.html#module-selenium.webdriver.support.expected_conditions"
   ]
  },
  {
   "cell_type": "code",
   "execution_count": null,
   "metadata": {},
   "outputs": [],
   "source": []
  },
  {
   "cell_type": "markdown",
   "metadata": {},
   "source": [
    "#### 12、前进和后退\n",
    "---\n",
    "平常使用浏览器时都有前进和后退功能，Selenium也可以完成这个操作，它使用back()方法后退，使用forward()方法前进。示例如下："
   ]
  },
  {
   "cell_type": "code",
   "execution_count": 2,
   "metadata": {
    "ExecuteTime": {
     "end_time": "2019-04-19T08:50:13.514229Z",
     "start_time": "2019-04-19T08:50:04.597791Z"
    }
   },
   "outputs": [],
   "source": [
    "import time \n",
    "from selenium import webdriver\n",
    "\n",
    "browser = webdriver.Chrome()\n",
    "browser.get('https://www.baidu.com/')\n",
    "browser.get('https://www.taobao.com/')\n",
    "browser.get('https://www.python.org/')\n",
    "browser.back()\n",
    "time.sleep(1)\n",
    "browser.forward()\n",
    "browser.close()\n",
    "\n",
    "# 这里我们连续访问三个页面，然后调用back()方法回到第二个页面，接下来再调用forward()方法\n",
    "# 又可以前进到第三个页面\n"
   ]
  },
  {
   "cell_type": "markdown",
   "metadata": {},
   "source": [
    "#### 13、Cookies\n",
    "---\n",
    "使用Selenium，还可以方便地对Cookies进行操作，例如获取、添加、删除Cookies等。示例如下："
   ]
  },
  {
   "cell_type": "code",
   "execution_count": 3,
   "metadata": {
    "ExecuteTime": {
     "end_time": "2019-04-19T08:57:05.524606Z",
     "start_time": "2019-04-19T08:56:58.434305Z"
    }
   },
   "outputs": [
    {
     "name": "stdout",
     "output_type": "stream",
     "text": [
      "[{'domain': '.zhihu.com', 'httpOnly': False, 'name': 'l_n_c', 'path': '/', 'secure': False, 'value': '1'}, {'domain': 'www.zhihu.com', 'expiry': 1555665120.183419, 'httpOnly': False, 'name': 'tgw_l7_route', 'path': '/', 'secure': False, 'value': '66cb16bc7f45da64562a077714739c11'}, {'domain': '.zhihu.com', 'expiry': 1555666023, 'httpOnly': False, 'name': '__utmb', 'path': '/', 'secure': False, 'value': '51854390.0.10.1555664223'}, {'domain': '.zhihu.com', 'expiry': 1650272220.183474, 'httpOnly': False, 'name': 'q_c1', 'path': '/', 'secure': False, 'value': 'a0e837d5265b4d8896561c3d0e1e5bb9|1555664219000|1555664219000'}, {'domain': 'www.zhihu.com', 'httpOnly': False, 'name': '_xsrf', 'path': '/', 'secure': False, 'value': '91da78a0c48c3db3c86c3c0075971344'}, {'domain': '.zhihu.com', 'expiry': 1558256220.183522, 'httpOnly': False, 'name': 'r_cap_id', 'path': '/', 'secure': False, 'value': '\"OTliZTM2NDg0NjI2NGMxNDkxMjgwYmUyYWI4Nzg0MDM=|1555664219|30750ca61373a341aabda94136e1b6b401c54c87\"'}, {'domain': '.zhihu.com', 'expiry': 1558256220.183536, 'httpOnly': False, 'name': 'cap_id', 'path': '/', 'secure': False, 'value': '\"OTJjMWRkZmY4MWNlNDYwYzg4YmZkMDdiOGU5YmZkMTQ=|1555664219|623ae0874165b5eb7fba8c97c15031769873f438\"'}, {'domain': '.zhihu.com', 'expiry': 1558256220.18355, 'httpOnly': False, 'name': 'l_cap_id', 'path': '/', 'secure': False, 'value': '\"NDBlYWM2MTNlMWUzNDYzNzljMWUyNTIyOTdiMTAyNjI=|1555664219|d10cafd40d0beb88c430598edeb1d412045bef5d\"'}, {'domain': '.zhihu.com', 'httpOnly': False, 'name': 'n_c', 'path': '/', 'secure': False, 'value': '1'}, {'domain': '.zhihu.com', 'expiry': 1650272222.829141, 'httpOnly': False, 'name': 'd_c0', 'path': '/', 'secure': False, 'value': '\"AABmzrhHTQ-PThpJTiLjMDhhTSuAXMAjvzE=|1555664221\"'}, {'domain': '.zhihu.com', 'expiry': 1618736223, 'httpOnly': False, 'name': '__utma', 'path': '/', 'secure': False, 'value': '51854390.2061147522.1555664223.1555664223.1555664223.1'}, {'domain': '.zhihu.com', 'httpOnly': False, 'name': '__utmc', 'path': '/', 'secure': False, 'value': '51854390'}, {'domain': '.zhihu.com', 'expiry': 1571432223, 'httpOnly': False, 'name': '__utmz', 'path': '/', 'secure': False, 'value': '51854390.1555664223.1.1.utmcsr=(direct)|utmccn=(direct)|utmcmd=(none)'}, {'domain': '.zhihu.com', 'expiry': 1618736223, 'httpOnly': False, 'name': '__utmv', 'path': '/', 'secure': False, 'value': '51854390.000--|3=entry_date=20190419=1'}, {'domain': '.zhihu.com', 'expiry': 1618736224, 'httpOnly': False, 'name': '_zap', 'path': '/', 'secure': False, 'value': '4cbeb92d-9af8-454a-bcfa-e1c415627b1e'}]\n",
      "[{'domain': '.zhihu.com', 'httpOnly': False, 'name': 'l_n_c', 'path': '/', 'secure': False, 'value': '1'}, {'domain': 'www.zhihu.com', 'expiry': 1555665120.183419, 'httpOnly': False, 'name': 'tgw_l7_route', 'path': '/', 'secure': False, 'value': '66cb16bc7f45da64562a077714739c11'}, {'domain': '.zhihu.com', 'expiry': 1555666023, 'httpOnly': False, 'name': '__utmb', 'path': '/', 'secure': False, 'value': '51854390.0.10.1555664223'}, {'domain': '.zhihu.com', 'expiry': 1650272220.183474, 'httpOnly': False, 'name': 'q_c1', 'path': '/', 'secure': False, 'value': 'a0e837d5265b4d8896561c3d0e1e5bb9|1555664219000|1555664219000'}, {'domain': 'www.zhihu.com', 'httpOnly': False, 'name': '_xsrf', 'path': '/', 'secure': False, 'value': '91da78a0c48c3db3c86c3c0075971344'}, {'domain': '.zhihu.com', 'expiry': 1558256220.183522, 'httpOnly': False, 'name': 'r_cap_id', 'path': '/', 'secure': False, 'value': '\"OTliZTM2NDg0NjI2NGMxNDkxMjgwYmUyYWI4Nzg0MDM=|1555664219|30750ca61373a341aabda94136e1b6b401c54c87\"'}, {'domain': '.zhihu.com', 'expiry': 1558256220.183536, 'httpOnly': False, 'name': 'cap_id', 'path': '/', 'secure': False, 'value': '\"OTJjMWRkZmY4MWNlNDYwYzg4YmZkMDdiOGU5YmZkMTQ=|1555664219|623ae0874165b5eb7fba8c97c15031769873f438\"'}, {'domain': '.zhihu.com', 'expiry': 1558256220.18355, 'httpOnly': False, 'name': 'l_cap_id', 'path': '/', 'secure': False, 'value': '\"NDBlYWM2MTNlMWUzNDYzNzljMWUyNTIyOTdiMTAyNjI=|1555664219|d10cafd40d0beb88c430598edeb1d412045bef5d\"'}, {'domain': '.zhihu.com', 'httpOnly': False, 'name': 'n_c', 'path': '/', 'secure': False, 'value': '1'}, {'domain': '.zhihu.com', 'expiry': 1650272222.829141, 'httpOnly': False, 'name': 'd_c0', 'path': '/', 'secure': False, 'value': '\"AABmzrhHTQ-PThpJTiLjMDhhTSuAXMAjvzE=|1555664221\"'}, {'domain': '.zhihu.com', 'expiry': 1618736223, 'httpOnly': False, 'name': '__utma', 'path': '/', 'secure': False, 'value': '51854390.2061147522.1555664223.1555664223.1555664223.1'}, {'domain': '.zhihu.com', 'httpOnly': False, 'name': '__utmc', 'path': '/', 'secure': False, 'value': '51854390'}, {'domain': '.zhihu.com', 'expiry': 1571432223, 'httpOnly': False, 'name': '__utmz', 'path': '/', 'secure': False, 'value': '51854390.1555664223.1.1.utmcsr=(direct)|utmccn=(direct)|utmcmd=(none)'}, {'domain': '.zhihu.com', 'expiry': 1618736223, 'httpOnly': False, 'name': '__utmv', 'path': '/', 'secure': False, 'value': '51854390.000--|3=entry_date=20190419=1'}, {'domain': '.zhihu.com', 'expiry': 1618736224, 'httpOnly': False, 'name': '_zap', 'path': '/', 'secure': False, 'value': '4cbeb92d-9af8-454a-bcfa-e1c415627b1e'}, {'domain': 'www.zhihu.com', 'expiry': 2186384225, 'httpOnly': False, 'name': 'name', 'path': '/', 'secure': True, 'value': 'germey'}]\n",
      "[]\n"
     ]
    }
   ],
   "source": [
    "from selenium import webdriver\n",
    "\n",
    "browser = webdriver.Chrome()\n",
    "browser.get('https://www.zhihu.com/explore')\n",
    "print(browser.get_cookies())\n",
    "browser.add_cookie({'name':'name','domain':'www.zhihu.com','value':'germey'})\n",
    "print(browser.get_cookies())\n",
    "browser.delete_all_cookies()\n",
    "print(browser.get_cookies())\n",
    "\n",
    "# 首先，我们访问了知乎。加载完成后，浏览器实际上已经生成Cookies了。接着，调用\n",
    "# get_cookies()方法获取所有的Cookies。然后，我们添加一个Cookie，这里传入一个字典，\n",
    "# 有name、domain和value等内容。接下来，再次获取所有的Cookies。可以发现，结果就多了\n",
    "# 这一项新加的Cookie。最后，调用delete_all_cookies()方法删除所有的Cookies。再重新\n",
    "# 获取，发现结果就为空了。\n",
    "\n",
    "#输出如下："
   ]
  },
  {
   "cell_type": "markdown",
   "metadata": {},
   "source": [
    "#### 14、选项卡管理\n",
    "---\n",
    "在访问网页的时候，会开启一个个选项卡。在Selenium中，我们也可以对选项卡进行操作。示例如下："
   ]
  },
  {
   "cell_type": "code",
   "execution_count": 5,
   "metadata": {
    "ExecuteTime": {
     "end_time": "2019-04-19T09:03:20.135049Z",
     "start_time": "2019-04-19T09:03:10.031268Z"
    }
   },
   "outputs": [
    {
     "name": "stdout",
     "output_type": "stream",
     "text": [
      "['CDwindow-6ACC6592B314045666176DC89F474A71', 'CDwindow-60333239397FD8B76FD0DD182E0C6BF3']\n"
     ]
    },
    {
     "name": "stderr",
     "output_type": "stream",
     "text": [
      "C:\\anoconda\\lib\\site-packages\\ipykernel_launcher.py:8: DeprecationWarning: use driver.switch_to.window instead\n",
      "  \n",
      "C:\\anoconda\\lib\\site-packages\\ipykernel_launcher.py:11: DeprecationWarning: use driver.switch_to.window instead\n",
      "  # This is added back by InteractiveShellApp.init_path()\n"
     ]
    }
   ],
   "source": [
    "import time \n",
    "from selenium import webdriver\n",
    "\n",
    "browser = webdriver.Chrome()\n",
    "browser.get('https://www.baidu.com/')\n",
    "browser.execute_script('window.open()')\n",
    "print(browser.window_handles)\n",
    "browser.switch_to_window(browser.window_handles[1])\n",
    "browser.get('https://www.taobao.com')\n",
    "time.sleep(1)\n",
    "browser.switch_to_window(browser.window_handles[0])\n",
    "browser.get('https://python.org')\n"
   ]
  },
  {
   "cell_type": "markdown",
   "metadata": {},
   "source": [
    "以上代码首先访问了百度，然后调用execute_script()方法，这里传入window.open()这个JavaScript语句新开启一个选项卡。接下来，我们想要切换到该选项卡。这里调用window_handles属性获取当前开启的所有选项卡，返回的是选项卡的代号列表。要想切换选项卡，只需要调用switch_to_window()方法即可，其中参数是选项卡的代号。这里我们将第二个选项卡代号传入，即跳转到第二个选项卡，接下来在第二个选项卡下打开一个新页面，然后切换回第一个选项卡重新调用switch_to_window()方法，再执行其他操作即可。\n",
    "\n",
    "---"
   ]
  },
  {
   "cell_type": "markdown",
   "metadata": {},
   "source": [
    "#### 15、异常处理\n",
    "\n",
    "---\n",
    "在使用Selenium的过程中，难免会遇到一些异常，例如超时、节点未找到等错误，一旦出现此类错误，程序便不会继续运行了。这里我们可以使用try except语句来捕获各种异常。\n",
    "\n",
    "---\n",
    "首先，演示一下节点未找到的异常，示例如下："
   ]
  },
  {
   "cell_type": "code",
   "execution_count": 6,
   "metadata": {
    "ExecuteTime": {
     "end_time": "2019-04-19T09:12:40.448722Z",
     "start_time": "2019-04-19T09:12:37.471712Z"
    }
   },
   "outputs": [
    {
     "ename": "NoSuchElementException",
     "evalue": "Message: no such element: Unable to locate element: {\"method\":\"id\",\"selector\":\"hello\"}\n  (Session info: chrome=72.0.3626.121)\n  (Driver info: chromedriver=72.0.3626.69 (3c16f8a135abc0d4da2dff33804db79b849a7c38),platform=Windows NT 10.0.17134 x86_64)\n",
     "output_type": "error",
     "traceback": [
      "\u001b[1;31m---------------------------------------------------------------------------\u001b[0m",
      "\u001b[1;31mNoSuchElementException\u001b[0m                    Traceback (most recent call last)",
      "\u001b[1;32m<ipython-input-6-3a812943bed3>\u001b[0m in \u001b[0;36m<module>\u001b[1;34m\u001b[0m\n\u001b[0;32m      3\u001b[0m \u001b[0mbrowser\u001b[0m \u001b[1;33m=\u001b[0m \u001b[0mwebdriver\u001b[0m\u001b[1;33m.\u001b[0m\u001b[0mChrome\u001b[0m\u001b[1;33m(\u001b[0m\u001b[1;33m)\u001b[0m\u001b[1;33m\u001b[0m\u001b[1;33m\u001b[0m\u001b[0m\n\u001b[0;32m      4\u001b[0m \u001b[0mbrowser\u001b[0m\u001b[1;33m.\u001b[0m\u001b[0mget\u001b[0m\u001b[1;33m(\u001b[0m\u001b[1;34m'https://www.baidu.com'\u001b[0m\u001b[1;33m)\u001b[0m\u001b[1;33m\u001b[0m\u001b[1;33m\u001b[0m\u001b[0m\n\u001b[1;32m----> 5\u001b[1;33m \u001b[0mbrowser\u001b[0m\u001b[1;33m.\u001b[0m\u001b[0mfind_element_by_id\u001b[0m\u001b[1;33m(\u001b[0m\u001b[1;34m'hello'\u001b[0m\u001b[1;33m)\u001b[0m\u001b[1;33m\u001b[0m\u001b[1;33m\u001b[0m\u001b[0m\n\u001b[0m\u001b[0;32m      6\u001b[0m \u001b[1;33m\u001b[0m\u001b[0m\n\u001b[0;32m      7\u001b[0m \u001b[1;31m# 这里首先打开百度页面，然后尝试选择一个并不存在的节点，此时就会遇到异常。\u001b[0m\u001b[1;33m\u001b[0m\u001b[1;33m\u001b[0m\u001b[1;33m\u001b[0m\u001b[0m\n",
      "\u001b[1;32mC:\\anoconda\\lib\\site-packages\\selenium\\webdriver\\remote\\webdriver.py\u001b[0m in \u001b[0;36mfind_element_by_id\u001b[1;34m(self, id_)\u001b[0m\n\u001b[0;32m    358\u001b[0m             \u001b[0melement\u001b[0m \u001b[1;33m=\u001b[0m \u001b[0mdriver\u001b[0m\u001b[1;33m.\u001b[0m\u001b[0mfind_element_by_id\u001b[0m\u001b[1;33m(\u001b[0m\u001b[1;34m'foo'\u001b[0m\u001b[1;33m)\u001b[0m\u001b[1;33m\u001b[0m\u001b[1;33m\u001b[0m\u001b[0m\n\u001b[0;32m    359\u001b[0m         \"\"\"\n\u001b[1;32m--> 360\u001b[1;33m         \u001b[1;32mreturn\u001b[0m \u001b[0mself\u001b[0m\u001b[1;33m.\u001b[0m\u001b[0mfind_element\u001b[0m\u001b[1;33m(\u001b[0m\u001b[0mby\u001b[0m\u001b[1;33m=\u001b[0m\u001b[0mBy\u001b[0m\u001b[1;33m.\u001b[0m\u001b[0mID\u001b[0m\u001b[1;33m,\u001b[0m \u001b[0mvalue\u001b[0m\u001b[1;33m=\u001b[0m\u001b[0mid_\u001b[0m\u001b[1;33m)\u001b[0m\u001b[1;33m\u001b[0m\u001b[1;33m\u001b[0m\u001b[0m\n\u001b[0m\u001b[0;32m    361\u001b[0m \u001b[1;33m\u001b[0m\u001b[0m\n\u001b[0;32m    362\u001b[0m     \u001b[1;32mdef\u001b[0m \u001b[0mfind_elements_by_id\u001b[0m\u001b[1;33m(\u001b[0m\u001b[0mself\u001b[0m\u001b[1;33m,\u001b[0m \u001b[0mid_\u001b[0m\u001b[1;33m)\u001b[0m\u001b[1;33m:\u001b[0m\u001b[1;33m\u001b[0m\u001b[1;33m\u001b[0m\u001b[0m\n",
      "\u001b[1;32mC:\\anoconda\\lib\\site-packages\\selenium\\webdriver\\remote\\webdriver.py\u001b[0m in \u001b[0;36mfind_element\u001b[1;34m(self, by, value)\u001b[0m\n\u001b[0;32m    976\u001b[0m         return self.execute(Command.FIND_ELEMENT, {\n\u001b[0;32m    977\u001b[0m             \u001b[1;34m'using'\u001b[0m\u001b[1;33m:\u001b[0m \u001b[0mby\u001b[0m\u001b[1;33m,\u001b[0m\u001b[1;33m\u001b[0m\u001b[1;33m\u001b[0m\u001b[0m\n\u001b[1;32m--> 978\u001b[1;33m             'value': value})['value']\n\u001b[0m\u001b[0;32m    979\u001b[0m \u001b[1;33m\u001b[0m\u001b[0m\n\u001b[0;32m    980\u001b[0m     \u001b[1;32mdef\u001b[0m \u001b[0mfind_elements\u001b[0m\u001b[1;33m(\u001b[0m\u001b[0mself\u001b[0m\u001b[1;33m,\u001b[0m \u001b[0mby\u001b[0m\u001b[1;33m=\u001b[0m\u001b[0mBy\u001b[0m\u001b[1;33m.\u001b[0m\u001b[0mID\u001b[0m\u001b[1;33m,\u001b[0m \u001b[0mvalue\u001b[0m\u001b[1;33m=\u001b[0m\u001b[1;32mNone\u001b[0m\u001b[1;33m)\u001b[0m\u001b[1;33m:\u001b[0m\u001b[1;33m\u001b[0m\u001b[1;33m\u001b[0m\u001b[0m\n",
      "\u001b[1;32mC:\\anoconda\\lib\\site-packages\\selenium\\webdriver\\remote\\webdriver.py\u001b[0m in \u001b[0;36mexecute\u001b[1;34m(self, driver_command, params)\u001b[0m\n\u001b[0;32m    319\u001b[0m         \u001b[0mresponse\u001b[0m \u001b[1;33m=\u001b[0m \u001b[0mself\u001b[0m\u001b[1;33m.\u001b[0m\u001b[0mcommand_executor\u001b[0m\u001b[1;33m.\u001b[0m\u001b[0mexecute\u001b[0m\u001b[1;33m(\u001b[0m\u001b[0mdriver_command\u001b[0m\u001b[1;33m,\u001b[0m \u001b[0mparams\u001b[0m\u001b[1;33m)\u001b[0m\u001b[1;33m\u001b[0m\u001b[1;33m\u001b[0m\u001b[0m\n\u001b[0;32m    320\u001b[0m         \u001b[1;32mif\u001b[0m \u001b[0mresponse\u001b[0m\u001b[1;33m:\u001b[0m\u001b[1;33m\u001b[0m\u001b[1;33m\u001b[0m\u001b[0m\n\u001b[1;32m--> 321\u001b[1;33m             \u001b[0mself\u001b[0m\u001b[1;33m.\u001b[0m\u001b[0merror_handler\u001b[0m\u001b[1;33m.\u001b[0m\u001b[0mcheck_response\u001b[0m\u001b[1;33m(\u001b[0m\u001b[0mresponse\u001b[0m\u001b[1;33m)\u001b[0m\u001b[1;33m\u001b[0m\u001b[1;33m\u001b[0m\u001b[0m\n\u001b[0m\u001b[0;32m    322\u001b[0m             response['value'] = self._unwrap_value(\n\u001b[0;32m    323\u001b[0m                 response.get('value', None))\n",
      "\u001b[1;32mC:\\anoconda\\lib\\site-packages\\selenium\\webdriver\\remote\\errorhandler.py\u001b[0m in \u001b[0;36mcheck_response\u001b[1;34m(self, response)\u001b[0m\n\u001b[0;32m    240\u001b[0m                 \u001b[0malert_text\u001b[0m \u001b[1;33m=\u001b[0m \u001b[0mvalue\u001b[0m\u001b[1;33m[\u001b[0m\u001b[1;34m'alert'\u001b[0m\u001b[1;33m]\u001b[0m\u001b[1;33m.\u001b[0m\u001b[0mget\u001b[0m\u001b[1;33m(\u001b[0m\u001b[1;34m'text'\u001b[0m\u001b[1;33m)\u001b[0m\u001b[1;33m\u001b[0m\u001b[1;33m\u001b[0m\u001b[0m\n\u001b[0;32m    241\u001b[0m             \u001b[1;32mraise\u001b[0m \u001b[0mexception_class\u001b[0m\u001b[1;33m(\u001b[0m\u001b[0mmessage\u001b[0m\u001b[1;33m,\u001b[0m \u001b[0mscreen\u001b[0m\u001b[1;33m,\u001b[0m \u001b[0mstacktrace\u001b[0m\u001b[1;33m,\u001b[0m \u001b[0malert_text\u001b[0m\u001b[1;33m)\u001b[0m\u001b[1;33m\u001b[0m\u001b[1;33m\u001b[0m\u001b[0m\n\u001b[1;32m--> 242\u001b[1;33m         \u001b[1;32mraise\u001b[0m \u001b[0mexception_class\u001b[0m\u001b[1;33m(\u001b[0m\u001b[0mmessage\u001b[0m\u001b[1;33m,\u001b[0m \u001b[0mscreen\u001b[0m\u001b[1;33m,\u001b[0m \u001b[0mstacktrace\u001b[0m\u001b[1;33m)\u001b[0m\u001b[1;33m\u001b[0m\u001b[1;33m\u001b[0m\u001b[0m\n\u001b[0m\u001b[0;32m    243\u001b[0m \u001b[1;33m\u001b[0m\u001b[0m\n\u001b[0;32m    244\u001b[0m     \u001b[1;32mdef\u001b[0m \u001b[0m_value_or_default\u001b[0m\u001b[1;33m(\u001b[0m\u001b[0mself\u001b[0m\u001b[1;33m,\u001b[0m \u001b[0mobj\u001b[0m\u001b[1;33m,\u001b[0m \u001b[0mkey\u001b[0m\u001b[1;33m,\u001b[0m \u001b[0mdefault\u001b[0m\u001b[1;33m)\u001b[0m\u001b[1;33m:\u001b[0m\u001b[1;33m\u001b[0m\u001b[1;33m\u001b[0m\u001b[0m\n",
      "\u001b[1;31mNoSuchElementException\u001b[0m: Message: no such element: Unable to locate element: {\"method\":\"id\",\"selector\":\"hello\"}\n  (Session info: chrome=72.0.3626.121)\n  (Driver info: chromedriver=72.0.3626.69 (3c16f8a135abc0d4da2dff33804db79b849a7c38),platform=Windows NT 10.0.17134 x86_64)\n"
     ]
    }
   ],
   "source": [
    "from selenium import webdriver\n",
    "\n",
    "browser = webdriver.Chrome()\n",
    "browser.get('https://www.baidu.com')\n",
    "browser.find_element_by_id('hello')\n",
    "\n",
    "# 这里首先打开百度页面，然后尝试选择一个并不存在的节点，此时就会遇到异常。\n",
    "\n",
    "# 运行之后输出如下："
   ]
  },
  {
   "cell_type": "markdown",
   "metadata": {},
   "source": [
    "可以看到，这里抛出了NoSuchElementException异常，这通常是节点未找到的异常。为了防止程序遇到异常而中断，我们需要捕获这些异常，示例如下："
   ]
  },
  {
   "cell_type": "code",
   "execution_count": 7,
   "metadata": {
    "ExecuteTime": {
     "end_time": "2019-04-19T09:19:16.546953Z",
     "start_time": "2019-04-19T09:19:11.079691Z"
    }
   },
   "outputs": [
    {
     "name": "stdout",
     "output_type": "stream",
     "text": [
      "No Element\n"
     ]
    }
   ],
   "source": [
    "from selenium import webdriver\n",
    "from selenium.common.exceptions import TimeoutException, NoSuchElementException\n",
    "\n",
    "browser = webdriver.Chrome()\n",
    "try:\n",
    "    browser.get('https://www.baidu.com')\n",
    "except TimeoutException:\n",
    "    print('Time Out')\n",
    "try:\n",
    "    browser.find_element_by_id('hello')\n",
    "except NoSuchElementException:\n",
    "    print('No Element')\n",
    "finally:\n",
    "    browser.close()\n",
    "\n",
    "# 这里我们使用try except来捕获各类异常。比如，我们对find_element_by_id()查找节点\n",
    "# 的方法捕获NoSuchElementException异常，这样一旦出现这样的错误，就进行异常处理，\n",
    "# 程序也不会中断了。"
   ]
  },
  {
   "cell_type": "markdown",
   "metadata": {},
   "source": [
    "\n",
    "关于更多的异常类，可以参考官方文档： http://selenium-python.readthedocs.io/api.html#module-selenium.common.exceptions"
   ]
  },
  {
   "cell_type": "code",
   "execution_count": null,
   "metadata": {},
   "outputs": [],
   "source": []
  }
 ],
 "metadata": {
  "kernelspec": {
   "display_name": "Python 3",
   "language": "python",
   "name": "python3"
  },
  "language_info": {
   "codemirror_mode": {
    "name": "ipython",
    "version": 3
   },
   "file_extension": ".py",
   "mimetype": "text/x-python",
   "name": "python",
   "nbconvert_exporter": "python",
   "pygments_lexer": "ipython3",
   "version": "3.7.3"
  }
 },
 "nbformat": 4,
 "nbformat_minor": 2
}
