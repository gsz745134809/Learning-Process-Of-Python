{
 "cells": [
  {
   "cell_type": "markdown",
   "metadata": {},
   "source": [
    "# 1、什么是Ajax\n",
    "基本思想：利用requests来模拟Ajax请求"
   ]
  },
  {
   "cell_type": "markdown",
   "metadata": {},
   "source": [
    "基本原理：\n",
    "---\n",
    "1、发送请求\n",
    "---\n",
    "2、解析内容\n",
    "---\n",
    "3、渲染网页\n",
    "---"
   ]
  },
  {
   "cell_type": "markdown",
   "metadata": {},
   "source": [
    "-发送请求\n",
    "我们知道JavaScript可以实现页面的各种交互功能，Ajax也不列外，它是由JavaScript实现的，\n",
    "实际上执行了如下代码：\n",
    "```\n",
    "var xmlhttp;\n",
    "if (window.XMLHttpRequest){\n",
    "    // code for IE7+, Firefox, Chrome, Opera, Safari\n",
    "    xmlhttp = new XMLHttpRequest();\n",
    "} else {  // code for IE6, IE5\n",
    "    xmlhttp = new ActiveXObject(\"Microsoft.XMLHTTP\");\n",
    "}\n",
    "xmlhttp.onreadystatechange=function() {\n",
    "    if (xmlhttp.readyState == 4 && xmlhttp.status == 200) {\n",
    "        document.getElementById(\"myDiv\").innerHTML = xmlhttp.responseText;\n",
    "    }\n",
    "}\n",
    "xmlhttp.open(\"POST\", \"/ajax/\", true);\n",
    "xmlhttp.send();\n",
    "```\n",
    "以上是JavaScript对Ajax最底层的实现，实际上就是新建了XMLHttpRequest对象，然后调用\n",
    "onreadystatechange属性设置了监听，然后调用open()和send()方法向某个链接（也就是服务器）发送了请求。前面用Python实现请求发送之后，可以得到响应结果，但这里请求的发送变成JavaScript来完成。由于设置了监听，所以当服务器返回相应时，onreadystatrchange对应的方法便会被触发，然后在这个方法里解析响应内容即可\n",
    "---\n",
    "-解析内容\n",
    "得到响应之后， onreadystatechange属性对应的方法便会被触发，此时利用xmlhttp的responseText属性便可取到响应内容。这类似于Python中利用requests向服务器发起请求，然后得到响应的过程。那么返回内容可能是HTML，可能是JSON，接下来只需要在方法中用JavaScript进一步处理即可。比如，如果是JSON的话，可以进行解析和转化。\n",
    "---\n",
    "-渲染网页\n",
    "JavaScript有改变网页内容的能力，解析完响应内容之后，就可以调用JavaScript来针对解析完的内容对网页进行下一步处理了。比如，通过document.getElementById().innerHTML这样的操作，便可以对某个元素内的源代码进行更改，这样网页显示的内容就改变了，这样的操作也被称作DOM操作，即对Document网页文档进行操作，如更改、删除等。\n",
    "---"
   ]
  },
  {
   "cell_type": "markdown",
   "metadata": {},
   "source": [
    "上例中，document.getElementById(\"myDiv\").innerHTML=xmlhttp.responseText 便将 ID 为 myDiv 的节点内部的 HTML 代码更改为服务器返回的内容，这样 myDiv 元素内部便会呈现出服务器返回的新数据，网页的部分内容看上去就更新了 。"
   ]
  },
  {
   "cell_type": "code",
   "execution_count": null,
   "metadata": {},
   "outputs": [],
   "source": []
  },
  {
   "cell_type": "markdown",
   "metadata": {},
   "source": [
    "# 2、Ajax分析方法"
   ]
  },
  {
   "cell_type": "markdown",
   "metadata": {},
   "source": [
    "---\n",
    "1、查看请求\n",
    "---\n",
    "Ajax有其特殊的请求类型，它叫做 xhr （在检查的network的type里面可以找到），点进去发现其中有一项为 X-Requested-With: XMLHttpRequest ， 这就标记了此请求是Ajax请求。\n",
    "点击Preview可以看到响应的内容，是JSON格式的。返回的结果就是用来渲染网页所使用的数据。JavaScript接收到这些数据之后，再执行相应的渲染方法，整个页面就渲染出来了。\n",
    "---\n",
    "2、过滤请求\n",
    "---\n",
    "利用Chrome开发者工具的筛选功能筛选出所有的Ajax请求。在请求的上方有一层筛选栏，直接点击XHR，此时在下方显示的所有请求便都是Ajax请求了。\n",
    "接下来,不断滑动页面，看到底部有新的内容出现，Ajax请求也不断出现，这样就可以捕获到所有的Ajax请求了。"
   ]
  },
  {
   "cell_type": "code",
   "execution_count": null,
   "metadata": {},
   "outputs": [],
   "source": []
  },
  {
   "cell_type": "markdown",
   "metadata": {},
   "source": [
    "# 3、Ajax结果提取\n",
    "---\n",
    "1、分析请求\n",
    "---\n",
    "打开Ajax的XHR过滤器，然后一直滑动页面以加载新的微博内容。可以看到，会不断有Ajax请求发出。\n",
    "选定其中一个请求，分析它的参数信息。点击该请求，进入详情页面。\n",
    "发现是一个GET类型的请求，得到请求链接、请求参数。\n",
    "分析出网页改变时URL相应改变的规律。\n",
    "---\n",
    "2、分析响应\n",
    "---\n",
    "观察请求的响应内容。\n",
    "内容是JSON格式的，分析出重要内容\n",
    "---\n",
    "3、实战演练\n",
    "---\n",
    "用程序模拟Ajax请求爬取崔庆才微博"
   ]
  },
  {
   "cell_type": "code",
   "execution_count": 5,
   "metadata": {
    "ExecuteTime": {
     "end_time": "2019-04-18T05:43:01.041585Z",
     "start_time": "2019-04-18T05:43:01.036598Z"
    }
   },
   "outputs": [],
   "source": [
    "from urllib.parse import urlencode\n",
    "import requests\n",
    "base_url = 'https://m.weibo.cn/api/container/getIndex?'\n",
    "\n",
    "headers = {\n",
    "    'Host': 'm.weibo.cn',\n",
    "    'Referer': 'https://m.weibo.cn/u/2830678474',\n",
    "    'User-Agent': 'Mozilla/5.0 (Windows NT 10.0; Win64; x64) AppleWebKit/537.36 (KHTML, like Gecko) Chrome/72.0.3626.121 Safari/537.36',\n",
    "    'X-Requested-With': 'XMLHttpRequest',\n",
    "}\n",
    "\n",
    "def get_page(page):\n",
    "    params = {\n",
    "        'type': 'uid',\n",
    "        'value': '2830678474',\n",
    "        'containerid': '1076032830678474',\n",
    "        'page': page\n",
    "    }\n",
    "    url = base_url + urlencode(params)\n",
    "    try:\n",
    "        response = requests.get(url, headers=headers)\n",
    "        if response.status_code == 200: \n",
    "            return response.json()\n",
    "    except requests.ConnectionError as e: \n",
    "        print('Error', e.args)"
   ]
  },
  {
   "cell_type": "code",
   "execution_count": 8,
   "metadata": {
    "ExecuteTime": {
     "end_time": "2019-04-18T05:52:32.647666Z",
     "start_time": "2019-04-18T05:52:32.641682Z"
    }
   },
   "outputs": [],
   "source": [
    "# 定义一个解析方法，从结果中提取想要的信息。\n",
    "from pyquery import PyQuery as pq \n",
    "def parse_page(json):\n",
    "    if json:\n",
    "        items = json.get('data').get('cards')\n",
    "        for item in items:\n",
    "            item = item.get('mblog')\n",
    "            weibo = {}\n",
    "            try:\n",
    "                weibo['id'] = item.get('id')\n",
    "                weibo['text'] = pq(item.get('text')).text()\n",
    "                weibo['attitudes'] = item.get('attitudes_count')\n",
    "                weibo['comments'] = item.get('comments_count')\n",
    "                weibo['reposts'] = item.get('reposts_count')\n",
    "                yield weibo\n",
    "            except Exception as e:\n",
    "                continue"
   ]
  },
  {
   "cell_type": "code",
   "execution_count": 9,
   "metadata": {
    "ExecuteTime": {
     "end_time": "2019-04-18T05:52:37.285265Z",
     "start_time": "2019-04-18T05:52:33.667938Z"
    }
   },
   "outputs": [
    {
     "name": "stdout",
     "output_type": "stream",
     "text": [
      "{'id': '4362348917011512', 'text': '@长泽牙妹', 'attitudes': 0, 'comments': 1, 'reposts': 0}\n",
      "{'id': '4362348561001001', 'text': '@长泽牙妹', 'attitudes': 0, 'comments': 0, 'reposts': 0}\n",
      "{'id': '4362235948170191', 'text': '其实挺喜欢某天晚上什么都不管，静静看一会书的时候。', 'attitudes': 2, 'comments': 2, 'reposts': 0}\n",
      "{'id': '4362235214079741', 'text': '我在大麦发现了一个很棒的演出『李荣浩 【年少有为】巡回演唱会-北京站』，你们也赶快过来看看吧!#去现场为所爱#（通过@大麦网 发布）网页链接 @长泽牙妹', 'attitudes': 1, 'comments': 0, 'reposts': 0}\n",
      "{'id': '4362227873988237', 'text': '有时候我在想，很多时候我做的一些事到底有没有用，是不是在做无用功。\\n其实可以这么思考，现在回想一下，当时我们初中高中学的东西，在现在看来有没有用呢？你可能说现在一点用都没有，全都忘干净了。然而，假若在那个时候我们不知道这些你已经遗忘的知识，我们可以走到今天这一步吗？显然，不能。当 ...全文', 'attitudes': 15, 'comments': 6, 'reposts': 0}\n",
      "{'id': '4361291709287279', 'text': '昨天小马给我俩一人买了一双拖鞋，安德玛的，一双 279，我心想卧槽这么这么贵，不就是个拖鞋吗？我的拖鞋都二三十块钱，后来一穿，真舒服啊，真香！\\n今天小马给我买的 Airpods 到了，本来没用过这玩意，心想就是俩无线耳机啊，后来自动连接、自动检测、自动暂停、自动播放，苹果还是很用心了，卧槽又真 ...全文', 'attitudes': 18, 'comments': 10, 'reposts': 0}\n",
      "{'id': '4361125753184692', 'text': '司机：？？？\\n恍恍惚惚\\n不得不说捏完 jiojio 真爽啊 北京·颐润堂专业养生(五道口华清嘉园店)', 'attitudes': 1, 'comments': 1, 'reposts': 0}\n",
      "{'id': '4361065066081234', 'text': '崔庆才丨静觅的微博视频', 'attitudes': 15, 'comments': 11, 'reposts': 0}\n",
      "{'id': '4360820584482909', 'text': '别一味向前冲，有时候也得停下来想想为什么。', 'attitudes': 13, 'comments': 1, 'reposts': 0}\n",
      "{'id': '4360578824474455', 'text': '大吉大利，今天吃鸡！', 'attitudes': 6, 'comments': 3, 'reposts': 0}\n",
      "{'id': '4359487315654410', 'text': '回复@马克不思不吐温:不，我是炫妻狂魔！//@马克不思不吐温:宠妻狂魔', 'attitudes': 3, 'comments': 1, 'reposts': 0}\n",
      "{'id': '4358182510256805', 'text': '有人说我拍照不给美颜说我是直男，其实我要跟他说\\n\\n我老婆这么好看！不需要美颜！！！ 无锡 · 茂业天地', 'attitudes': 21, 'comments': 10, 'reposts': 1}\n",
      "{'id': '4358168307318196', 'text': '无锡第三弹，麻辣牛蛙加酸辣粉，无辣不欢！！ 无锡 · 南长街', 'attitudes': 5, 'comments': 0, 'reposts': 0}\n",
      "{'id': '4358036368201697', 'text': '无锡第二弹，梅花糕和大椰子！ 无锡·南禅寺步行街', 'attitudes': 8, 'comments': 2, 'reposts': 0}\n",
      "{'id': '4358027312713111', 'text': '无锡第一弹，鲜嫩鲜嫩的小笼包！ 无锡·南禅寺步行街', 'attitudes': 6, 'comments': 0, 'reposts': 0}\n",
      "{'id': '4357486243284848', 'text': '论老婆的重要性！@长泽牙妹', 'attitudes': 1, 'comments': 2, 'reposts': 0}\n",
      "{'id': '4356916539201823', 'text': '//@风尘丶刻画你的脸:重构一时爽，一直重构一直爽', 'attitudes': 12, 'comments': 0, 'reposts': 0}\n",
      "{'id': '4356813115689870', 'text': '一晚上重构完了一个大项目，下午五点左右设计重构方案，一晚上重构完了十个 Pipeline，终于舒服了！\\n近期的活儿也就告一段落了！\\n入职到现在共做完了三个项目，其实我真感觉我效率不低了，从熟悉环境到弄通架构到分离模块到重构系统，学到不少，继续加油！ 北京', 'attitudes': 30, 'comments': 10, 'reposts': 1}\n",
      "{'id': '4355993305506837', 'text': '小马来之后 vs 小马走之后', 'attitudes': 12, 'comments': 5, 'reposts': 0}\n",
      "{'id': '4355891958010671', 'text': '周末改善伙食，自制蛋挞，牛排，鸡腿，烤鱼。\\n来自小马大厨。 北京', 'attitudes': 17, 'comments': 1, 'reposts': 0}\n",
      "{'id': '4355882600449147', 'text': '今天是烤鱼烤鸡腿！', 'attitudes': 9, 'comments': 2, 'reposts': 0}\n",
      "{'id': '4355675624593013', 'text': '', 'attitudes': 2, 'comments': 0, 'reposts': 0}\n",
      "{'id': '4355629541279380', 'text': '考爆了。', 'attitudes': 6, 'comments': 1, 'reposts': 0}\n",
      "{'id': '4355625825589283', 'text': '自制蛋挞！', 'attitudes': 9, 'comments': 0, 'reposts': 0}\n",
      "{'id': '4355077856863241', 'text': '', 'attitudes': 1, 'comments': 0, 'reposts': 0}\n",
      "{'id': '4354214345930977', 'text': '重构一时爽，Debug 火葬场。 北京 · 中关村', 'attitudes': 16, 'comments': 0, 'reposts': 0}\n",
      "{'id': '4354138206423464', 'text': '//@程序员邹欣://@微软学术合作:相信每一个参与了Ada Workshop的女生，都能在这里找到内心的榜样和力量~', 'attitudes': 3, 'comments': 2, 'reposts': 0}\n",
      "{'id': '4353153799188187', 'text': '与圈内各大佬线下面基，祝愿大家爬虫爬得越来越溜。 北京', 'attitudes': 12, 'comments': 3, 'reposts': 0}\n",
      "{'id': '4352577095529480', 'text': '过了几天没有降噪耳机的日子，感觉撸代码效率都变低了，昨天 Bose 到了以后，感觉又要重获新生了！😎', 'attitudes': 11, 'comments': 2, 'reposts': 0}\n",
      "{'id': '4352424943230196', 'text': '分享图片', 'attitudes': 1, 'comments': 0, 'reposts': 0}\n",
      "{'id': '4352352138307030', 'text': '', 'attitudes': 3, 'comments': 1, 'reposts': 1}\n",
      "{'id': '4352038395238766', 'text': '这个应该是在夸我是吧？嗯，没错！', 'attitudes': 4, 'comments': 1, 'reposts': 0}\n",
      "{'id': '4351706877970384', 'text': '转发微博', 'attitudes': 2, 'comments': 1, 'reposts': 1}\n",
      "{'id': '4351703635469945', 'text': '我有一个微博朋友，叫胡忠想今天不是单身狗了，@胡忠想今天不是单身狗了 ，有时候我们会发消息。\\n小马有一天看到了。（此处艾特小马。@长泽牙妹\\n小马：你们两个什么关系？他有没有女朋友啊？\\n我：没有啊。\\n小马：什么啊？这不是自己都说了他今天不是单身狗了，他还叫胡忠想，今天不是单身狗了，还秀到 ...全文', 'attitudes': 6, 'comments': 11, 'reposts': 0}\n",
      "{'id': '4351697759411610', 'text': '本来觉得我代码写的也不咋好啊，后来看了下别人的，我觉得我写的还是不错的。', 'attitudes': 8, 'comments': 3, 'reposts': 0}\n",
      "{'id': '4351693837697950', 'text': '哇我也🐴！//@长泽牙妹:@崔庆才丨静觅 马！//@俄勒冈七姐:麻竹慢慢研究一下 //@MoonBallBall: //@放开那个空巢老兽:马//@爱斯基摩菇: //@撸猫侠hiroober:妈呀……已经不知道用什么姿势跪才能表达我的仰慕之情了……不要老是想着当杠精，人家很多思路真的特别赞特别有启发。', 'attitudes': 1, 'comments': 1, 'reposts': 2}\n",
      "{'id': '4351683045696521', 'text': '谁有 apple pencil 闲置出售啊，求购一只，450 左右。', 'attitudes': 3, 'comments': 13, 'reposts': 0}\n",
      "{'id': '4351107725315153', 'text': '昨天外卖到了后吃得太嗨了，微博都忘了发了。\\n来自山西的外卖，好吃得爆炸了简直！\\n对了，想知道外卖骑手是谁吗？\\n没错，就是小马！\\n没想到吧。', 'attitudes': 9, 'comments': 7, 'reposts': 0}\n",
      "{'id': '4350903462428426', 'text': '从山西点了份外卖，外卖骑手服务太到位了，坐着复兴号就一路过来了！一会到了晒图！', 'attitudes': 10, 'comments': 10, 'reposts': 0}\n",
      "{'id': '4350852527086607', 'text': '我在闲鱼发布了【Kindle 入门版二手，七成新，功能完好，有抹痕。】#闲鱼翻身#过大促！#退坑回血便宜出#网页链接', 'attitudes': 1, 'comments': 5, 'reposts': 0}\n",
      "{'id': '4350849926807649', 'text': '我在闲鱼发布了【小度智能音箱，九五成新，用过一次。】#闲鱼翻身#过大促！#退坑回血便宜出#网页链接', 'attitudes': 1, 'comments': 2, 'reposts': 0}\n",
      "{'id': '4350849742272017', 'text': '出我自己的耳机，我在闲鱼发布了【二手索尼WH-1000XM2，音质降噪无问题】#闲鱼翻身#过大促！#退坑回血便宜出#网页链接', 'attitudes': 3, 'comments': 0, 'reposts': 0}\n",
      "{'id': '4350849578733812', 'text': '我在闲鱼发布了【Google Android Things 开发板 全新未拆】#闲鱼翻身#过大促！#退坑回血便宜出#网页链接', 'attitudes': 3, 'comments': 0, 'reposts': 0}\n",
      "{'id': '4350414562513883', 'text': '不到一万块钱，确定不是反讽阿里云？', 'attitudes': 3, 'comments': 0, 'reposts': 0}\n",
      "{'id': '4350413685858269', 'text': '//@凹凸合平://@白衣咸饭: 这种缺德公司，崩了最好', 'attitudes': 3, 'comments': 0, 'reposts': 0}\n",
      "{'id': '4350413274445319', 'text': '这种还是趁早端了吧网页链接', 'attitudes': 3, 'comments': 1, 'reposts': 0}\n",
      "{'id': '4350410703661778', 'text': '', 'attitudes': 2, 'comments': 1, 'reposts': 0}\n",
      "{'id': '4349509976406880', 'text': '为什么我会事情这么多啊，刚上手不熟悉，做得好慢，陪小马的时间少了好多。 北京 · 北沙滩', 'attitudes': 9, 'comments': 0, 'reposts': 0}\n",
      "{'id': '4348366089343450', 'text': '不得不说拍立得还是牛逼！ 北京', 'attitudes': 28, 'comments': 12, 'reposts': 1}\n",
      "{'id': '4348365716124571', 'text': '我老婆最美，不接受反驳。', 'attitudes': 21, 'comments': 7, 'reposts': 1}\n",
      "{'id': '4348090481967414', 'text': '今天吃到了两顿小马做的大餐 ，还拔草了情侣专座，惊奇队长是真 BUG 啊！', 'attitudes': 15, 'comments': 8, 'reposts': 0}\n",
      "{'id': '4347982301767834', 'text': '//@掘金技术社区:', 'attitudes': 4, 'comments': 0, 'reposts': 3}\n",
      "{'id': '4347860323890690', 'text': '', 'attitudes': 6, 'comments': 0, 'reposts': 5}\n",
      "{'id': '4346776884748036', 'text': '真是像子弹一样快呢...', 'attitudes': 3, 'comments': 0, 'reposts': 0}\n",
      "{'id': '4346776418872482', 'text': '', 'attitudes': 2, 'comments': 0, 'reposts': 0}\n",
      "{'id': '4346486738957641', 'text': '🐴 //@长泽牙妹:@崔庆才丨静觅', 'attitudes': 2, 'comments': 0, 'reposts': 0}\n",
      "{'id': '4346482808997575', 'text': '号外！号外！好看又有趣的博主又更文啦！品牌洗脑——幼儿营销的秘密', 'attitudes': 3, 'comments': 1, 'reposts': 0}\n",
      "{'id': '4346426982899620', 'text': '', 'attitudes': 0, 'comments': 0, 'reposts': 0}\n",
      "{'id': '4346426257867336', 'text': '扎心了//@蚁工厂://@Maxiee: 脑中飘过一句广告：好代码，一份就够了//@安卓大王子:有点扎心了', 'attitudes': 2, 'comments': 0, 'reposts': 1}\n",
      "{'id': '4346263581706326', 'text': '是时候学 Go 了...', 'attitudes': 4, 'comments': 5, 'reposts': 2}\n",
      "{'id': '4346263140906301', 'text': '全面解析 Inception Score 原理及其局限性 网页链接', 'attitudes': 3, 'comments': 0, 'reposts': 0}\n",
      "{'id': '4344646425807388', 'text': '今天怎么回事？# 腾讯新闻 # 《陕西一公交司机劝阻女乘客吸烟 遭对方从身后用围巾勒脖》腾讯新闻 来自@腾讯新闻', 'attitudes': 0, 'comments': 1, 'reposts': 0}\n",
      "{'id': '4344444755041114', 'text': '摇滚莫扎特是真牛逼啊！！下次我一定要坐在第一层！！ @长泽牙妹 北京·天桥', 'attitudes': 11, 'comments': 7, 'reposts': 0}\n",
      "{'id': '4344383480150954', 'text': '幸好我不住天通苑。 北京·5号线惠新西街南口站', 'attitudes': 5, 'comments': 4, 'reposts': 0}\n",
      "{'id': '4343964414672930', 'text': '', 'attitudes': 3, 'comments': 7, 'reposts': 0}\n",
      "{'id': '4342230002786504', 'text': '时间管理怎么做？@滴答清单 来帮你。看看这篇《用四象限管理任务》吧，你也可以修炼成时间管理大牛~ @长泽牙妹 网页链接', 'attitudes': 5, 'comments': 0, 'reposts': 1}\n",
      "{'id': '4342130904893586', 'text': '发布了头条文章：《还在一个个写规则？来了解下爬虫的智能化解析吧！》 还在一个个写规则？来了解下爬虫的智能化解析吧！', 'attitudes': 8, 'comments': 9, 'reposts': 5}\n",
      "{'id': '4341876394188386', 'text': '转发微博', 'attitudes': 2, 'comments': 1, 'reposts': 4}\n",
      "{'id': '4341022345170946', 'text': '荣膺全明星MVP！KD：我已经在划水了，可实力不允许啊 腾讯体育', 'attitudes': 2, 'comments': 1, 'reposts': 0}\n",
      "{'id': '4341020331978387', 'text': '神准无比！杜兰特31分荣膺夏洛特全明星赛MVP 神准无比！杜兰特31分荣膺夏洛特全明星赛MVP （分享自 @虎扑App） 查看图片', 'attitudes': 1, 'comments': 0, 'reposts': 0}\n",
      "{'id': '4340458639464956', 'text': '是真快乐啊~', 'attitudes': 8, 'comments': 1, 'reposts': 0}\n",
      "{'id': '4340369699864587', 'text': '', 'attitudes': 4, 'comments': 0, 'reposts': 2}\n",
      "{'id': '4340333703472697', 'text': '#宝宝的少女心# @长泽牙妹 快快乐乐拼乐高！', 'attitudes': 5, 'comments': 0, 'reposts': 0}\n",
      "{'id': '4339987078470746', 'text': '@长泽牙妹 xswl', 'attitudes': 0, 'comments': 2, 'reposts': 0}\n",
      "{'id': '4339982766463111', 'text': '#翟天临# VS #朱一龙# 吓我一跳，路过北京南站地铁牌子，我还以为是翟天临，这也太像了吧。 北京·吉野家北京南站NO.3', 'attitudes': 4, 'comments': 8, 'reposts': 0}\n",
      "{'id': '4339930858252255', 'text': '', 'attitudes': 7, 'comments': 0, 'reposts': 0}\n",
      "{'id': '4339542952158654', 'text': '祝小马情人节快乐！@长泽牙妹\\n网页链接', 'attitudes': 21, 'comments': 14, 'reposts': 0}\n"
     ]
    },
    {
     "name": "stdout",
     "output_type": "stream",
     "text": [
      "{'id': '4339029518992449', 'text': '今天我升级为VIP5了', 'attitudes': 3, 'comments': 0, 'reposts': 0}\n",
      "{'id': '4339018663273602', 'text': '2019，继续前行！ 2019，继续前行！', 'attitudes': 13, 'comments': 0, 'reposts': 2}\n",
      "{'id': '4338970181900714', 'text': '看吃个螃蟹把你乐呵的，是不是傻？', 'attitudes': 9, 'comments': 6, 'reposts': 0}\n",
      "{'id': '4338859858547792', 'text': '防抖不错', 'attitudes': 1, 'comments': 0, 'reposts': 0}\n",
      "{'id': '4338855496611272', 'text': '', 'attitudes': 1, 'comments': 0, 'reposts': 0}\n",
      "{'id': '4338855178609250', 'text': '//@TONOT时尚视频眼镜:好像真的是一副可以萌化钢筋儿直男的智能眼镜哦', 'attitudes': 0, 'comments': 0, 'reposts': 0}\n",
      "{'id': '4338852494159499', 'text': '', 'attitudes': 1, 'comments': 0, 'reposts': 0}\n",
      "{'id': '4338844650186505', 'text': '哇！', 'attitudes': 0, 'comments': 0, 'reposts': 0}\n",
      "{'id': '4338834327905661', 'text': '真牛逼啊', 'attitudes': 0, 'comments': 1, 'reposts': 0}\n",
      "{'id': '4338649325512538', 'text': '回复@长泽牙妹: 世界之大，无瓜不有啊！//@长泽牙妹:@崔庆才丨静觅//@粉乳乳:这电影勾起了我的好奇心，想看看了哈哈哈哈哈哈', 'attitudes': 7, 'comments': 1, 'reposts': 2}\n",
      "{'id': '4338623681420271', 'text': '//@长泽牙妹:@崔庆才丨静觅 点燃木星何必牺牲刘培强', 'attitudes': 1, 'comments': 1, 'reposts': 3}\n",
      "{'id': '4338177777455262', 'text': '流浪地球地面有 bug，重力加速度是一样的，男的掉落的时候为什么会追上女的呢？\\n不过这电影是真牛逼啊！', 'attitudes': 6, 'comments': 12, 'reposts': 0}\n",
      "{'id': '4338177357897302', 'text': '百发百中！得了一个茄子娃娃！ 济南 · 万达广场', 'attitudes': 6, 'comments': 0, 'reposts': 0}\n",
      "{'id': '4338039092518875', 'text': '试了三分钟还可以。 查看图片', 'attitudes': 2, 'comments': 4, 'reposts': 0}\n",
      "{'id': '4338035841822680', 'text': '火车站置办了许多按摩椅，扫码使用，旅途中的人舟车劳作确实有按摩需求，另外等车的时间确实是枯燥的，不如扫个放松下，所以不得不说确实是个大市场，预感未来一些站会慢慢增加。#全民拜年# 潍坊·青州站', 'attitudes': 4, 'comments': 6, 'reposts': 1}\n",
      "{'id': '4337898767893555', 'text': '', 'attitudes': 3, 'comments': 0, 'reposts': 1}\n",
      "{'id': '4337882816667699', 'text': '过年的零食被小马承包啦哈哈！#全民拜年# @长泽牙妹', 'attitudes': 4, 'comments': 9, 'reposts': 0}\n",
      "{'id': '4337867876830309', 'text': '稳如狗死党这五年。', 'attitudes': 5, 'comments': 3, 'reposts': 0}\n"
     ]
    }
   ],
   "source": [
    "# 最后遍历page\n",
    "if __name__ == '__main__':\n",
    "    for page in range(1, 11):\n",
    "        json = get_page(page)\n",
    "        results = parse_page(json)\n",
    "        for result in results:\n",
    "            print(result)"
   ]
  },
  {
   "cell_type": "code",
   "execution_count": 11,
   "metadata": {
    "ExecuteTime": {
     "end_time": "2019-04-18T05:53:54.624548Z",
     "start_time": "2019-04-18T05:53:54.619574Z"
    }
   },
   "outputs": [],
   "source": [
    "# 将结果保存到MongoDB\n",
    "from pymongo import MongoClient\n",
    "client = MongoClient('localhost', 27017)\n",
    "db = client['weibo']\n",
    "collection = db['weibo']\n",
    "\n",
    "def save_to_mongo(result):\n",
    "    if collection.insert(result):\n",
    "        print('Saved to Mongo')"
   ]
  },
  {
   "cell_type": "code",
   "execution_count": null,
   "metadata": {},
   "outputs": [],
   "source": []
  },
  {
   "cell_type": "code",
   "execution_count": null,
   "metadata": {},
   "outputs": [],
   "source": []
  },
  {
   "cell_type": "code",
   "execution_count": null,
   "metadata": {},
   "outputs": [],
   "source": []
  }
 ],
 "metadata": {
  "kernelspec": {
   "display_name": "Python 3",
   "language": "python",
   "name": "python3"
  },
  "language_info": {
   "codemirror_mode": {
    "name": "ipython",
    "version": 3
   },
   "file_extension": ".py",
   "mimetype": "text/x-python",
   "name": "python",
   "nbconvert_exporter": "python",
   "pygments_lexer": "ipython3",
   "version": "3.7.3"
  }
 },
 "nbformat": 4,
 "nbformat_minor": 2
}
