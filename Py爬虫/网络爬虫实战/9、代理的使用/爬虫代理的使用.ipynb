{
 "cells": [
  {
   "cell_type": "markdown",
   "metadata": {},
   "source": [
    "# 9、代理的使用\n",
    "\n",
    "---\n",
    "## 9、1 代理的设置\n",
    "\n",
    "---\n",
    "前面介绍了多种请求库，如requests、urllib、Selenium等。接下来我们先贴近实战，了解一下代理如何使用，为后面了解代理池、ADSL拨号代理的使用打下基础。\n",
    "\n",
    "---\n",
    "首先，我们来梳理一下这些请求库的代理设置方法。\n",
    "\n",
    "---"
   ]
  },
  {
   "cell_type": "markdown",
   "metadata": {},
   "source": [
    "### 1、获取代理\n",
    "\n",
    "---\n",
    "做测试之前，我们需要先获取一个可用代理。搜索引擎搜索“代理”关键字，就可以看到许多代理服务网站，网站上会有很多免费代理，比如西刺：http://www.xicidaili.com/ 。 但是这些免费代理大多数情况下都是不好用的，所以比较靠谱的方法是购买付费代理。付费代理在很多网站上都有售卖，数量不用多，稳定可用即可，我们可以自行选购。\n",
    "\n",
    "---\n",
    "如果本机有相关代理软件的话，软件一般会在本机创建HTTP或SOCKS代理服务，本机直接使用此代理也可以。\n",
    "\n",
    "---\n",
    "本书中作者，在其本机安装了一部代理软件，它会在本地9743端口上创建HTTP代理服务，即代理为127.0.0.1:9743，另外还会在9742端口创建SOCKS代理服务，即代理为127.0.0.1:9742.他只要设置了这个代理，就可以成功将本机IP切换到代理软件连接的服务器的IP了。\n",
    "\n",
    "---\n",
    "本章下面的示例里，他使用上述代理来演示其设置方法，我们也可以自行替换成自己的可用代理。设置代理后测试的网址是： http://httpbin.org/get ， 我们访问该网址就可以得到请求的相关信息，其中origin字段就是客户端的IP，我们可以根据它来判断代理是否设置成功，即是否成功伪装了IP。"
   ]
  },
  {
   "cell_type": "code",
   "execution_count": null,
   "metadata": {},
   "outputs": [],
   "source": []
  },
  {
   "cell_type": "markdown",
   "metadata": {},
   "source": [
    "### 2、urllib\n",
    "\n",
    "---\n",
    "首先，我们以最基础的urllib为例，来看一下代理的设置方法，代码示例如下："
   ]
  },
  {
   "cell_type": "code",
   "execution_count": 2,
   "metadata": {
    "ExecuteTime": {
     "end_time": "2019-04-24T01:59:11.166381Z",
     "start_time": "2019-04-24T01:59:10.055904Z"
    }
   },
   "outputs": [
    {
     "name": "stdout",
     "output_type": "stream",
     "text": [
      "[WinError 10061] 由于目标计算机积极拒绝，无法连接。\n"
     ]
    }
   ],
   "source": [
    "from urllib.error import URLError\n",
    "from urllib.request import ProxyHandler, build_opener\n",
    "\n",
    "proxy = '127.0.0.1:9743'\n",
    "proxy_handler = ProxyHandler({\n",
    "    'http': 'http://' + proxy,\n",
    "    'https': 'https://' + proxy\n",
    "})\n",
    "opener = build_opener(proxy_handler)\n",
    "try:\n",
    "    response = opener.open('http://httpbin.org/get')\n",
    "    print(response.read().decode('utf-8'))\n",
    "except URLError as e:\n",
    "    print(e.reason)"
   ]
  },
  {
   "cell_type": "markdown",
   "metadata": {},
   "source": [
    "这里我们需要借助ProxyHandler设置代理，参数是字典类型，键名是字典类型，键名为协议类型，键值是代理。注意，此处代理前面需要加上协议，即http或者https。当请求的链接是http协议时，ProxyHandler会调用http代理。当请求的链接是https的时候，会调用https代理。此处生效的代理是http://127.0.0.1:9743 .\n",
    "\n",
    "---\n",
    "创建完ProxyHandler对象之后，我们需要利用build_opener()方法传入该对象来创建一个Opener，这样就相当于此Opener已经设置好代理了。接下来直接调用Opener对象的open()方法，即可访问我们所想要的链接。\n",
    "\n",
    "---\n",
    "运行输出结果是一个JSON，它有一个字段origin，标明了客户端的IP。验证一下，此处的IP确实为代理的IP，并不是真实的IP。这样我们就成功设置好代理，并可以隐藏真实IP了。\n",
    "\n",
    "---\n",
    "如果遇到需要认证的代理，我们可以通过如下方法设置："
   ]
  },
  {
   "cell_type": "code",
   "execution_count": null,
   "metadata": {},
   "outputs": [],
   "source": [
    "from urllib.error import URLError\n",
    "from urllib.request import ProxyHandler, build_opener\n",
    "\n",
    "proxy = 'username:password@127.0.0.1:9743'\n",
    "proxy_handler = ProxyHandler({\n",
    "    'http': 'http://' + proxy,\n",
    "    'https': 'https://' + proxy\n",
    "})\n",
    "opener = build_opener(proxy_handler)\n",
    "try:\n",
    "    response = opener.open('http://httpbin.org/get')\n",
    "    print(response.read().decode('utf-8'))\n",
    "except URLError as e:\n",
    "    print(e.reason)"
   ]
  },
  {
   "cell_type": "markdown",
   "metadata": {},
   "source": [
    "这里改变的只是proxy变量，我们只需要在代理前面加入代理认证的用户名和密码即可。其中，username为用户名，password为密码，例如，username为foo，密码为bar，那么代理就是foo:bar@127.0.0.1:9743。\n",
    "\n",
    "---\n",
    "如果代理是SOCKS5类型，那么我们可以用如下方式设置代理："
   ]
  },
  {
   "cell_type": "code",
   "execution_count": 4,
   "metadata": {
    "ExecuteTime": {
     "end_time": "2019-04-24T03:15:14.029028Z",
     "start_time": "2019-04-24T02:55:12.526213Z"
    }
   },
   "outputs": [
    {
     "name": "stdout",
     "output_type": "stream",
     "text": [
      "Socket error: Connection closed unexpectedly\n"
     ]
    }
   ],
   "source": [
    "import socks\n",
    "import socket\n",
    "from urllib import request\n",
    "from urllib.error import URLError\n",
    "\n",
    "socks.set_default_proxy(socks.SOCKS5, '127.0.0.1', 9742)\n",
    "socket.socket = socks.socksocket\n",
    "try:\n",
    "    response = request.urlopen('http://httpbin.org/get')\n",
    "    print(response.read().decode('utf-8'))\n",
    "except URLError as e:\n",
    "    print(e.reason)"
   ]
  },
  {
   "cell_type": "markdown",
   "metadata": {},
   "source": [
    "本地有一个SOCKS5代理，它运行在9742端口。运行成功之后，输出结果和上文HTTP代理的输出结果一样。\n",
    "\n",
    "---\n",
    "此结果中的origin字段同样为代理的IP。"
   ]
  },
  {
   "cell_type": "code",
   "execution_count": null,
   "metadata": {},
   "outputs": [],
   "source": []
  },
  {
   "cell_type": "markdown",
   "metadata": {},
   "source": [
    "### 3、requests\n",
    "\n",
    "---\n",
    "对于requests来说，代理设置更加简单，我们只需要传入proxies参数即可。"
   ]
  },
  {
   "cell_type": "code",
   "execution_count": null,
   "metadata": {
    "ExecuteTime": {
     "end_time": "2019-04-24T03:20:14.668573Z",
     "start_time": "2019-04-24T03:11:43.486Z"
    }
   },
   "outputs": [],
   "source": [
    "import requests\n",
    "\n",
    "# proxy = '127.0.0.1:9743'\n",
    "proxy = 'cj424k:cj424k@120.210.204.164:888'\n",
    "proxies = {\n",
    "    'http': 'http://' + proxy,\n",
    "    'https': 'https://' + proxy,\n",
    "}\n",
    "try:\n",
    "    response = requests.get('http://httpbin.org/get', proxies=proxies)\n",
    "    print(response.text)\n",
    "except requests.exceptions.ConnectionError as e:\n",
    "    print('Error', e.asrgs)\n",
    "\n"
   ]
  },
  {
   "cell_type": "markdown",
   "metadata": {},
   "source": [
    "requests只需要构造代理字典，然后通过proxies参数即可，而不需要重新构建Opener。\n",
    "\n",
    "---\n",
    "如果需要使用SOCKS5代理"
   ]
  },
  {
   "cell_type": "code",
   "execution_count": null,
   "metadata": {
    "ExecuteTime": {
     "end_time": "2019-04-24T03:20:14.669588Z",
     "start_time": "2019-04-24T03:15:15.433Z"
    }
   },
   "outputs": [],
   "source": [
    "import requests\n",
    "\n",
    "# proxy = '127.0.0.1:9743'\n",
    "proxy = 'cj424k:cj424k@120.210.204.164:888'\n",
    "proxies = {\n",
    "    'http': 'socks5://' + proxy,\n",
    "    'https': 'socks5://' + proxy\n",
    "}\n",
    "try:\n",
    "    response = requests.get('http://httpbin.org/get', proxies=proxies)\n",
    "    print(response.text)\n",
    "except requests.exceptions.ConnectionError as e:\n",
    "    print('Error', e.asrgs)\n"
   ]
  },
  {
   "cell_type": "markdown",
   "metadata": {},
   "source": [
    "---\n",
    "\n",
    "全局设置的SOCKS5方法"
   ]
  },
  {
   "cell_type": "code",
   "execution_count": null,
   "metadata": {},
   "outputs": [],
   "source": [
    "import requests\n",
    "import socks\n",
    "import socket\n",
    "\n",
    "socks.set_default_proxy(socks.SOCKS, '127.0.0.1', 9742)\n",
    "socket.socket = socks.socksocket\n",
    "try :\n",
    "    response = requests.get('http://httpbin.org/get')\n",
    "    print(response.text)\n",
    "except requests.exceptions.ConnectionError as e:\n",
    "    print('Error', e.asrgs)"
   ]
  },
  {
   "cell_type": "code",
   "execution_count": null,
   "metadata": {},
   "outputs": [],
   "source": []
  },
  {
   "cell_type": "markdown",
   "metadata": {},
   "source": [
    "### 4、Selenium\n",
    "\n",
    "---\n",
    "Selenium同样也可以设置代理，包括两种方式：一种是有界面浏览器，以Chrome为例；另一种是无界面浏览器，以PhantomJS为例。\n",
    "\n",
    "---"
   ]
  },
  {
   "cell_type": "markdown",
   "metadata": {},
   "source": [
    "+ 对于Chrome来说，用Selenium设置代理的方法也非常简单，设置方法如下："
   ]
  },
  {
   "cell_type": "code",
   "execution_count": 7,
   "metadata": {
    "ExecuteTime": {
     "end_time": "2019-04-24T03:45:03.784660Z",
     "start_time": "2019-04-24T03:43:31.777393Z"
    }
   },
   "outputs": [
    {
     "name": "stderr",
     "output_type": "stream",
     "text": [
      "C:\\anoconda\\lib\\site-packages\\ipykernel_launcher.py:6: DeprecationWarning: use options instead of chrome_options\n",
      "  \n"
     ]
    },
    {
     "ename": "WebDriverException",
     "evalue": "Message: Can not connect to the Service chromedriver\n",
     "output_type": "error",
     "traceback": [
      "\u001b[1;31m---------------------------------------------------------------------------\u001b[0m",
      "\u001b[1;31mWebDriverException\u001b[0m                        Traceback (most recent call last)",
      "\u001b[1;32m<ipython-input-7-82f51726faae>\u001b[0m in \u001b[0;36m<module>\u001b[1;34m\u001b[0m\n\u001b[0;32m      4\u001b[0m \u001b[0mchrome_options\u001b[0m \u001b[1;33m=\u001b[0m \u001b[0mwebdriver\u001b[0m\u001b[1;33m.\u001b[0m\u001b[0mChromeOptions\u001b[0m\u001b[1;33m(\u001b[0m\u001b[1;33m)\u001b[0m\u001b[1;33m\u001b[0m\u001b[1;33m\u001b[0m\u001b[0m\n\u001b[0;32m      5\u001b[0m \u001b[0mchrome_options\u001b[0m\u001b[1;33m.\u001b[0m\u001b[0madd_argument\u001b[0m\u001b[1;33m(\u001b[0m\u001b[1;34m'--proxy-server=http://'\u001b[0m \u001b[1;33m+\u001b[0m \u001b[0mproxy\u001b[0m\u001b[1;33m)\u001b[0m\u001b[1;33m\u001b[0m\u001b[1;33m\u001b[0m\u001b[0m\n\u001b[1;32m----> 6\u001b[1;33m \u001b[0mbrowser\u001b[0m \u001b[1;33m=\u001b[0m \u001b[0mwebdriver\u001b[0m\u001b[1;33m.\u001b[0m\u001b[0mChrome\u001b[0m\u001b[1;33m(\u001b[0m\u001b[0mchrome_options\u001b[0m\u001b[1;33m=\u001b[0m\u001b[0mchrome_options\u001b[0m\u001b[1;33m)\u001b[0m\u001b[1;33m\u001b[0m\u001b[1;33m\u001b[0m\u001b[0m\n\u001b[0m\u001b[0;32m      7\u001b[0m \u001b[0mbrowser\u001b[0m\u001b[1;33m.\u001b[0m\u001b[0mget\u001b[0m\u001b[1;33m(\u001b[0m\u001b[1;34m'http://httpbin.org/get'\u001b[0m\u001b[1;33m)\u001b[0m\u001b[1;33m\u001b[0m\u001b[1;33m\u001b[0m\u001b[0m\n",
      "\u001b[1;32mC:\\anoconda\\lib\\site-packages\\selenium\\webdriver\\chrome\\webdriver.py\u001b[0m in \u001b[0;36m__init__\u001b[1;34m(self, executable_path, port, options, service_args, desired_capabilities, service_log_path, chrome_options, keep_alive)\u001b[0m\n\u001b[0;32m     71\u001b[0m             \u001b[0mservice_args\u001b[0m\u001b[1;33m=\u001b[0m\u001b[0mservice_args\u001b[0m\u001b[1;33m,\u001b[0m\u001b[1;33m\u001b[0m\u001b[1;33m\u001b[0m\u001b[0m\n\u001b[0;32m     72\u001b[0m             log_path=service_log_path)\n\u001b[1;32m---> 73\u001b[1;33m         \u001b[0mself\u001b[0m\u001b[1;33m.\u001b[0m\u001b[0mservice\u001b[0m\u001b[1;33m.\u001b[0m\u001b[0mstart\u001b[0m\u001b[1;33m(\u001b[0m\u001b[1;33m)\u001b[0m\u001b[1;33m\u001b[0m\u001b[1;33m\u001b[0m\u001b[0m\n\u001b[0m\u001b[0;32m     74\u001b[0m \u001b[1;33m\u001b[0m\u001b[0m\n\u001b[0;32m     75\u001b[0m         \u001b[1;32mtry\u001b[0m\u001b[1;33m:\u001b[0m\u001b[1;33m\u001b[0m\u001b[1;33m\u001b[0m\u001b[0m\n",
      "\u001b[1;32mC:\\anoconda\\lib\\site-packages\\selenium\\webdriver\\common\\service.py\u001b[0m in \u001b[0;36mstart\u001b[1;34m(self)\u001b[0m\n\u001b[0;32m    102\u001b[0m             \u001b[0mtime\u001b[0m\u001b[1;33m.\u001b[0m\u001b[0msleep\u001b[0m\u001b[1;33m(\u001b[0m\u001b[1;36m1\u001b[0m\u001b[1;33m)\u001b[0m\u001b[1;33m\u001b[0m\u001b[1;33m\u001b[0m\u001b[0m\n\u001b[0;32m    103\u001b[0m             \u001b[1;32mif\u001b[0m \u001b[0mcount\u001b[0m \u001b[1;33m==\u001b[0m \u001b[1;36m30\u001b[0m\u001b[1;33m:\u001b[0m\u001b[1;33m\u001b[0m\u001b[1;33m\u001b[0m\u001b[0m\n\u001b[1;32m--> 104\u001b[1;33m                 \u001b[1;32mraise\u001b[0m \u001b[0mWebDriverException\u001b[0m\u001b[1;33m(\u001b[0m\u001b[1;34m\"Can not connect to the Service %s\"\u001b[0m \u001b[1;33m%\u001b[0m \u001b[0mself\u001b[0m\u001b[1;33m.\u001b[0m\u001b[0mpath\u001b[0m\u001b[1;33m)\u001b[0m\u001b[1;33m\u001b[0m\u001b[1;33m\u001b[0m\u001b[0m\n\u001b[0m\u001b[0;32m    105\u001b[0m \u001b[1;33m\u001b[0m\u001b[0m\n\u001b[0;32m    106\u001b[0m     \u001b[1;32mdef\u001b[0m \u001b[0massert_process_still_running\u001b[0m\u001b[1;33m(\u001b[0m\u001b[0mself\u001b[0m\u001b[1;33m)\u001b[0m\u001b[1;33m:\u001b[0m\u001b[1;33m\u001b[0m\u001b[1;33m\u001b[0m\u001b[0m\n",
      "\u001b[1;31mWebDriverException\u001b[0m: Message: Can not connect to the Service chromedriver\n"
     ]
    }
   ],
   "source": [
    "from selenium import webdriver\n",
    "\n",
    "proxy = '127.0.0.1:9743'\n",
    "chrome_options = webdriver.ChromeOptions()\n",
    "chrome_options.add_argument('--proxy-server=http://' + proxy)\n",
    "browser = webdriver.Chrome(chrome_options=chrome_options)\n",
    "browser.get('http://httpbin.org/get')\n"
   ]
  },
  {
   "cell_type": "markdown",
   "metadata": {},
   "source": [
    "如果代理是认证代理，则比较麻烦："
   ]
  },
  {
   "cell_type": "code",
   "execution_count": null,
   "metadata": {},
   "outputs": [],
   "source": [
    "from selenium import webdriver\n",
    "from selenium.webdriver.chrome.options import Options\n",
    "import zipfile\n",
    "\n",
    "\n",
    "ip = '120.210.204.164'\n",
    "port = 888\n",
    "username = 'cj424k'\n",
    "password = 'cj424k'\n",
    "\n",
    "mainfest_json = \"\"\"\n",
    "{\n",
    "    \"version\": \"1.0.0\",\n",
    "    \"manifest_version\": 2,\n",
    "    \"name\": \"Chrome Proxy\",\n",
    "    \"permissions\": [\n",
    "        \"proxy\",\n",
    "        \"tabs\",\n",
    "        \"unlimitedStorage\",\n",
    "        \"storage\",\n",
    "        \"<all_urls>\",\n",
    "        \"webRequest\",\n",
    "        \"webRequestBlocking\"\n",
    "    ],\n",
    "    \"background\": {\n",
    "        \"scripts\": [\"backgroud.js\"]\n",
    "    }\n",
    "}\n",
    "\"\"\"\n",
    "\n",
    "backgroud_js = \"\"\"\n",
    "    var config = {\n",
    "        mode: \"fixed_servers\",\n",
    "        rules: {\n",
    "            singleProxy:{\n",
    "                scheme: \"http\",\n",
    "                host: \"%(ip)s\",\n",
    "                port: %(port)s\n",
    "            }\n",
    "        }\n",
    "    }\n",
    "    chrome.proxy.settings.set({value: config, scope: \"regular\"}, function(){});\n",
    "    function callbackFn(details){\n",
    "        return {\n",
    "            authCredentials: {\n",
    "                username: \"%(username)s\",\n",
    "                password: \"%(password)s\"\n",
    "            }\n",
    "        }\n",
    "    }\n",
    "    chrome.webRequest.onAuthRequired.addListener(\n",
    "        callbackFn,\n",
    "        {urls: [\"<all_urls>\"]},\n",
    "        ['blocking']\n",
    "    )\n",
    "\"\"\" % {'ip': ip, 'port': port, 'username': username, 'password': password}\n",
    "\n",
    "plugin_file = 'proxy_auth_plugin.zip'\n",
    "with zipfile.ZipFile(plugin_file, 'w') as zp:\n",
    "    zp.writestr(\"manifest.json\", mainfest_json)\n",
    "    zp.writestr(\"backgroud.js\", backgroud_js)\n",
    "chrome_options = Options()\n",
    "chrome_options.add_argument(\"--start-maximized\")\n",
    "chrome_options.add_extension(plugin_file)\n",
    "browser = webdriver.Chrome(chrome_options=chrome_options)\n",
    "browser.get('http://httpbin.org/get')"
   ]
  },
  {
   "cell_type": "markdown",
   "metadata": {},
   "source": [
    "这里需要在本地创建一个manifes.json配置文件和background.js脚本来设置认证代理。运行代码之后本地会生成一个proxy_auth_plugin.zip文件来保存当前配置。\n",
    "\n",
    "---"
   ]
  },
  {
   "cell_type": "code",
   "execution_count": null,
   "metadata": {},
   "outputs": [],
   "source": []
  },
  {
   "cell_type": "markdown",
   "metadata": {},
   "source": [
    "+ PhantomJS\n",
    "\n",
    "---\n",
    "对于PhantomJS来说，代理设置方法可以借助service_args参数，也就是命令行参数。代理设置方法如下："
   ]
  },
  {
   "cell_type": "code",
   "execution_count": null,
   "metadata": {},
   "outputs": [],
   "source": [
    "from selenium import webdriver\n",
    "\n",
    "service_args = [\n",
    "    '--proxy=127.0.0.1:9743',\n",
    "    '--proxy-type=http'\n",
    "]\n",
    "browser = webdriver.PhantomJS(service_args=service_args)\n",
    "browser.get('http://httpbin.org/get')\n",
    "print(browser.page_source)\n"
   ]
  },
  {
   "cell_type": "markdown",
   "metadata": {},
   "source": [
    "如果需要认证，那么只需要再加入--proxy-auth选项即可，这样参数就改为："
   ]
  },
  {
   "cell_type": "code",
   "execution_count": null,
   "metadata": {},
   "outputs": [],
   "source": [
    "service_args = [\n",
    "    '--proxy=127.0.0.1:9743',\n",
    "    '--proxy-type=http',\n",
    "    '--proxy-auth=username:password'\n",
    "]\n",
    "\n",
    "# 将username和password替换为认证所需的用户名和密码即可。"
   ]
  },
  {
   "cell_type": "code",
   "execution_count": null,
   "metadata": {},
   "outputs": [],
   "source": []
  },
  {
   "cell_type": "code",
   "execution_count": null,
   "metadata": {},
   "outputs": [],
   "source": []
  },
  {
   "cell_type": "code",
   "execution_count": null,
   "metadata": {},
   "outputs": [],
   "source": []
  },
  {
   "cell_type": "code",
   "execution_count": null,
   "metadata": {},
   "outputs": [],
   "source": []
  },
  {
   "cell_type": "code",
   "execution_count": null,
   "metadata": {},
   "outputs": [],
   "source": []
  },
  {
   "cell_type": "code",
   "execution_count": null,
   "metadata": {},
   "outputs": [],
   "source": []
  },
  {
   "cell_type": "code",
   "execution_count": null,
   "metadata": {},
   "outputs": [],
   "source": []
  },
  {
   "cell_type": "code",
   "execution_count": null,
   "metadata": {},
   "outputs": [],
   "source": []
  },
  {
   "cell_type": "code",
   "execution_count": null,
   "metadata": {},
   "outputs": [],
   "source": []
  },
  {
   "cell_type": "code",
   "execution_count": null,
   "metadata": {},
   "outputs": [],
   "source": []
  },
  {
   "cell_type": "code",
   "execution_count": null,
   "metadata": {},
   "outputs": [],
   "source": []
  },
  {
   "cell_type": "code",
   "execution_count": null,
   "metadata": {},
   "outputs": [],
   "source": []
  }
 ],
 "metadata": {
  "kernelspec": {
   "display_name": "Python 3",
   "language": "python",
   "name": "python3"
  },
  "language_info": {
   "codemirror_mode": {
    "name": "ipython",
    "version": 3
   },
   "file_extension": ".py",
   "mimetype": "text/x-python",
   "name": "python",
   "nbconvert_exporter": "python",
   "pygments_lexer": "ipython3",
   "version": "3.7.3"
  }
 },
 "nbformat": 4,
 "nbformat_minor": 2
}
