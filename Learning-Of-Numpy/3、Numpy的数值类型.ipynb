{
 "cells": [
  {
   "cell_type": "markdown",
   "metadata": {},
   "source": [
    "bool  布尔类型\n",
    "\n",
    "---\n",
    "inti  其长度取决于平台的整数，一般是int32或int64\n",
    "\n",
    "---\n",
    "int8  字节长度的整数，取值：[-128, 127]\n",
    "\n",
    "---\n",
    "int16  16位长度的整数，取值：[-32768, 32767]\n",
    "\n",
    "---\n",
    "int32  32位长度的整数，取值：[-2**31, 2**31-1]\n",
    "\n",
    "---\n",
    "int64  64位长度的整数，取值：[-2**63, 2**63-1]\n",
    "\n",
    "---\n",
    "uint8  8位无符号整数，取值：[0, 255]\n",
    "\n",
    "---\n",
    "uint16  16位无符号整数，取值：[0, 65535]\n",
    "\n",
    "---\n",
    "uint32  32位无符号整数，取值：[0, 2**32-1]\n",
    "\n",
    "---\n",
    "uint64  64位无符号整数，取值：[0, 2**64-1]\n",
    "\n",
    "---\n",
    "float16  16位半精度浮点数：1位符号位，5位指数，10位尾数\n",
    "\n",
    "---\n",
    "float32  32位半精度浮点数：1位符号位，8位指数，23位尾数\n",
    "\n",
    "---\n",
    "float64或float  双精度浮点数：1位符号位，11位指数，52位尾数\n",
    "\n",
    "---\n",
    "complex64  复数类型，实部和虚部都是32位浮点数\n",
    "\n",
    "---\n",
    "complex128或complex  复数类型，实部和虚部都是64位浮点数\n"
   ]
  },
  {
   "cell_type": "code",
   "execution_count": 2,
   "metadata": {},
   "outputs": [
    {
     "data": {
      "text/plain": [
       "12"
      ]
     },
     "execution_count": 2,
     "metadata": {},
     "output_type": "execute_result"
    }
   ],
   "source": [
    "import numpy as np\n",
    "# 每一种数据类型都有相应的数据转换函数，参考示例如下\n",
    "np.int8(12.334)"
   ]
  },
  {
   "cell_type": "code",
   "execution_count": 3,
   "metadata": {},
   "outputs": [
    {
     "data": {
      "text/plain": [
       "12.0"
      ]
     },
     "execution_count": 3,
     "metadata": {},
     "output_type": "execute_result"
    }
   ],
   "source": [
    "import numpy as np\n",
    "np.float64(12)"
   ]
  },
  {
   "cell_type": "code",
   "execution_count": 4,
   "metadata": {},
   "outputs": [
    {
     "data": {
      "text/plain": [
       "1.0"
      ]
     },
     "execution_count": 4,
     "metadata": {},
     "output_type": "execute_result"
    }
   ],
   "source": [
    "import numpy\n",
    "numpy.float(True)"
   ]
  },
  {
   "cell_type": "code",
   "execution_count": 5,
   "metadata": {},
   "outputs": [
    {
     "data": {
      "text/plain": [
       "True"
      ]
     },
     "execution_count": 5,
     "metadata": {},
     "output_type": "execute_result"
    }
   ],
   "source": [
    "bool(1)"
   ]
  },
  {
   "cell_type": "code",
   "execution_count": 9,
   "metadata": {},
   "outputs": [
    {
     "data": {
      "text/plain": [
       "array([0., 1., 2., 3., 4.])"
      ]
     },
     "execution_count": 9,
     "metadata": {},
     "output_type": "execute_result"
    }
   ],
   "source": [
    "# 在创建ndarray数组时，可以指定数值类型：\n",
    "import numpy\n",
    "a = np.arange(5, dtype=float)\n",
    "# print(a)\n",
    "a"
   ]
  },
  {
   "cell_type": "markdown",
   "metadata": {},
   "source": [
    "• 请注意，复数不能转换成为整数类型或者浮点数，比如下面的代码会运行出错\n"
   ]
  },
  {
   "cell_type": "code",
   "execution_count": 10,
   "metadata": {},
   "outputs": [
    {
     "ename": "TypeError",
     "evalue": "can't convert complex to float",
     "output_type": "error",
     "traceback": [
      "\u001b[1;31m---------------------------------------------------------------------------\u001b[0m",
      "\u001b[1;31mTypeError\u001b[0m                                 Traceback (most recent call last)",
      "\u001b[1;32m<ipython-input-10-b662a9498c13>\u001b[0m in \u001b[0;36m<module>\u001b[1;34m\u001b[0m\n\u001b[1;32m----> 1\u001b[1;33m \u001b[0mfloat\u001b[0m\u001b[1;33m(\u001b[0m\u001b[1;36m42\u001b[0m \u001b[1;33m+\u001b[0m \u001b[1;36m1j\u001b[0m\u001b[1;33m)\u001b[0m\u001b[1;33m\u001b[0m\u001b[1;33m\u001b[0m\u001b[0m\n\u001b[0m",
      "\u001b[1;31mTypeError\u001b[0m: can't convert complex to float"
     ]
    }
   ],
   "source": [
    "float(42 + 1j)"
   ]
  },
  {
   "cell_type": "code",
   "execution_count": null,
   "metadata": {},
   "outputs": [],
   "source": []
  }
 ],
 "metadata": {
  "kernelspec": {
   "display_name": "Python 3",
   "language": "python",
   "name": "python3"
  },
  "language_info": {
   "codemirror_mode": {
    "name": "ipython",
    "version": 3
   },
   "file_extension": ".py",
   "mimetype": "text/x-python",
   "name": "python",
   "nbconvert_exporter": "python",
   "pygments_lexer": "ipython3",
   "version": "3.7.3"
  }
 },
 "nbformat": 4,
 "nbformat_minor": 2
}
