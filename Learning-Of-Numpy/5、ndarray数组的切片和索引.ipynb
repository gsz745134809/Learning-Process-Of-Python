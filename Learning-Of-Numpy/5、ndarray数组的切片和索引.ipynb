{
 "cells": [
  {
   "cell_type": "markdown",
   "metadata": {},
   "source": [
    "• 一维数组 \n",
    "一维数组的切片和索引与python的list索引类似。 "
   ]
  },
  {
   "cell_type": "code",
   "execution_count": 6,
   "metadata": {},
   "outputs": [
    {
     "name": "stdout",
     "output_type": "stream",
     "text": [
      "a:\t [0 1 2 3 4 5 6]\n",
      "a[1:4]:\t [1 2 3]\n",
      "a[:6:2]\t [0 2 4]\n"
     ]
    }
   ],
   "source": [
    "import numpy as np\n",
    "a = np.arange(7)\n",
    "print(\"a:\\t\", a)\n",
    "print(\"a[1:4]:\\t\", a[1:4])\n",
    "# 每间隔2个取一个数\n",
    "print(\"a[:6:2]\\t\", a[:6:2])"
   ]
  },
  {
   "cell_type": "markdown",
   "metadata": {},
   "source": [
    "• 二维数组的切片和索引"
   ]
  },
  {
   "cell_type": "code",
   "execution_count": 12,
   "metadata": {},
   "outputs": [
    {
     "name": "stdout",
     "output_type": "stream",
     "text": [
      "[[ 0  1  2  3]\n",
      " [ 4  5  6  7]\n",
      " [ 8  9 10 11]] \tb\n",
      "[[0 1]\n",
      " [4 5]\n",
      " [8 9]] \tb[0:3,0:2]\n"
     ]
    }
   ],
   "source": [
    "import numpy as np\n",
    "b = np.arange(12).reshape(3, 4)\n",
    "print(b, \"\\tb\")\n",
    "print(b[0:3,0:2], \"\\tb[0:3,0:2]\")  # 前三行，前两列"
   ]
  },
  {
   "cell_type": "code",
   "execution_count": null,
   "metadata": {},
   "outputs": [],
   "source": []
  }
 ],
 "metadata": {
  "kernelspec": {
   "display_name": "Python 3",
   "language": "python",
   "name": "python3"
  },
  "language_info": {
   "codemirror_mode": {
    "name": "ipython",
    "version": 3
   },
   "file_extension": ".py",
   "mimetype": "text/x-python",
   "name": "python",
   "nbconvert_exporter": "python",
   "pygments_lexer": "ipython3",
   "version": "3.6.8"
  }
 },
 "nbformat": 4,
 "nbformat_minor": 2
}
