{
 "cells": [
  {
   "cell_type": "code",
   "execution_count": 2,
   "metadata": {},
   "outputs": [
    {
     "name": "stdout",
     "output_type": "stream",
     "text": [
      "[1 2 3 4]\n",
      "[1 2 3 4]\n",
      "[[1 2 4]\n",
      " [3 4 5]]\n"
     ]
    }
   ],
   "source": [
    "# 首先导入numpy库\n",
    "import numpy as np\n",
    "\n",
    "# 创建ndarray数组的方式有很多种\n",
    "\n",
    "# Method1：基于list或turple\n",
    "\n",
    "# 一维数组\n",
    "\n",
    "# 基于list\n",
    "arr1 = np.array([1, 2, 3, 4])\n",
    "print(arr1)\n",
    "# [1 2 3 4]\n",
    "\n",
    "# 基于turple\n",
    "arr_tuple = np.array((1, 2, 3, 4))\n",
    "print(arr_tuple)\n",
    "# [1 2 3 4]\n",
    "\n",
    "\n",
    "# 二维数组(2*3)\n",
    "arr2 = np.array([[1, 2, 4], [3, 4, 5]])\n",
    "print(arr2)\n",
    "# [[1 2 4]\n",
    "#  [3 4 5]]\n",
    "\n",
    "\n",
    "# 请注意：\n",
    "# • 一维数组用print输出的时候为[1234]，跟python的列表是有些差异的，没有“,”\n",
    "# • 在创建二维数组时，在每个子list外面还有一个“[]”，形式为“[[list1], [list2]]”\n",
    "\n"
   ]
  },
  {
   "cell_type": "code",
   "execution_count": 4,
   "metadata": {
    "scrolled": true
   },
   "outputs": [
    {
     "name": "stdout",
     "output_type": "stream",
     "text": [
      "[0 1 2 3 4]\n",
      "[[0 1 2]\n",
      " [0 1 2]]\n"
     ]
    }
   ],
   "source": [
    "import numpy as np\n",
    "# Method2：基于np.arange\n",
    "\n",
    "# 一维数组\n",
    "arr1 = np.arange(5)\n",
    "print(arr1)\n",
    "\n",
    "# 二维数组\n",
    "arr2 = np.array([np.arange(3), np.arange(3)])\n",
    "arr2\n",
    "print(arr2)\n"
   ]
  },
  {
   "cell_type": "code",
   "execution_count": 6,
   "metadata": {},
   "outputs": [
    {
     "name": "stdout",
     "output_type": "stream",
     "text": [
      "[[[ 0  1  2  3]\n",
      "  [ 4  5  6  7]\n",
      "  [ 8  9 10 11]]\n",
      "\n",
      " [[12 13 14 15]\n",
      "  [16 17 18 19]\n",
      "  [20 21 22 23]]]\n"
     ]
    }
   ],
   "source": [
    "import numpy as np\n",
    "# Method3：基于arange以及reshape创建多维数组\n",
    "\n",
    "# 创建三维数组\n",
    "arr = np.arange(24).reshape(2, 3, 4)  # 二维三行四列\n",
    "print(arr)\n",
    "\n",
    "• 请注意：arange的⻓度与ndarray的维度的乘积要相等，即24=2X3X4 \n",
    "• 用numpy.random创建数组的方法，可以参考我的文章:《为什么你用不好Numpy的random函数》 \n",
    "• 其他创建ndarray的方法，各位小伙伴们自己可以研究下。"
   ]
  }
 ],
 "metadata": {
  "kernelspec": {
   "display_name": "Python 3",
   "language": "python",
   "name": "python3"
  },
  "language_info": {
   "codemirror_mode": {
    "name": "ipython",
    "version": 3
   },
   "file_extension": ".py",
   "mimetype": "text/x-python",
   "name": "python",
   "nbconvert_exporter": "python",
   "pygments_lexer": "ipython3",
   "version": "3.6.8"
  }
 },
 "nbformat": 4,
 "nbformat_minor": 2
}
