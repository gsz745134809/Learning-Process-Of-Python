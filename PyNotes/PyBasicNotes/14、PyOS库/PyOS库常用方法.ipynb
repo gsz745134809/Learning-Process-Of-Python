{
 "cells": [
  {
   "cell_type": "code",
   "execution_count": 1,
   "metadata": {
    "ExecuteTime": {
     "end_time": "2019-04-25T13:24:37.331072Z",
     "start_time": "2019-04-25T13:24:37.328080Z"
    }
   },
   "outputs": [],
   "source": [
    "import os"
   ]
  },
  {
   "cell_type": "markdown",
   "metadata": {},
   "source": [
    "### os.path.dirname(path)  # 返回路径的上一级路径字符串  "
   ]
  },
  {
   "cell_type": "code",
   "execution_count": 4,
   "metadata": {
    "ExecuteTime": {
     "end_time": "2019-04-25T13:26:31.422061Z",
     "start_time": "2019-04-25T13:26:31.415080Z"
    }
   },
   "outputs": [
    {
     "name": "stdout",
     "output_type": "stream",
     "text": [
      "C://Users\n",
      "C://\n"
     ]
    }
   ],
   "source": [
    "print(os.path.dirname('C://Users/'))\n",
    "print(os.path.dirname('C://Users'))"
   ]
  },
  {
   "cell_type": "code",
   "execution_count": null,
   "metadata": {},
   "outputs": [],
   "source": []
  },
  {
   "cell_type": "markdown",
   "metadata": {},
   "source": [
    "### os.path.basename(path)  # 返回路径的最后一级目录名（文件夹名）或文件名（全称）"
   ]
  },
  {
   "cell_type": "code",
   "execution_count": 8,
   "metadata": {
    "ExecuteTime": {
     "end_time": "2019-04-25T13:28:50.447301Z",
     "start_time": "2019-04-25T13:28:50.444264Z"
    }
   },
   "outputs": [
    {
     "data": {
      "text/plain": [
       "'TeamViewer.exe'"
      ]
     },
     "execution_count": 8,
     "metadata": {},
     "output_type": "execute_result"
    }
   ],
   "source": [
    "os.path.basename('C://TeamViewer.exe')"
   ]
  },
  {
   "cell_type": "code",
   "execution_count": null,
   "metadata": {},
   "outputs": [],
   "source": []
  },
  {
   "cell_type": "markdown",
   "metadata": {},
   "source": [
    "### os.path.splitext(file_name)  # 返回文件名和其后缀组成的元组"
   ]
  },
  {
   "cell_type": "code",
   "execution_count": 9,
   "metadata": {
    "ExecuteTime": {
     "end_time": "2019-04-25T13:29:59.023202Z",
     "start_time": "2019-04-25T13:29:59.018182Z"
    }
   },
   "outputs": [
    {
     "data": {
      "text/plain": [
       "('C://TeamViewer', '.exe')"
      ]
     },
     "execution_count": 9,
     "metadata": {},
     "output_type": "execute_result"
    }
   ],
   "source": [
    "os.path.splitext('C://TeamViewer.exe')"
   ]
  },
  {
   "cell_type": "code",
   "execution_count": null,
   "metadata": {},
   "outputs": [],
   "source": []
  },
  {
   "cell_type": "markdown",
   "metadata": {},
   "source": [
    "### os.path.abspath(string)  # 返回当前工作目录的路径加上string组成的路径字符串"
   ]
  },
  {
   "cell_type": "code",
   "execution_count": 10,
   "metadata": {
    "ExecuteTime": {
     "end_time": "2019-04-25T13:35:38.536292Z",
     "start_time": "2019-04-25T13:35:38.531306Z"
    }
   },
   "outputs": [
    {
     "data": {
      "text/plain": [
       "'C:\\\\Users\\\\郭思正\\\\Desktop\\\\Learning-Process-Of-Python\\\\PyNotes\\\\PyBasicNotes\\\\14、PyOS库\\\\Games'"
      ]
     },
     "execution_count": 10,
     "metadata": {},
     "output_type": "execute_result"
    }
   ],
   "source": [
    "os.path.abspath('Games')  # 当前目录下并没有“Games”这个文件或文件夹，只是随意写的字符串"
   ]
  },
  {
   "cell_type": "code",
   "execution_count": null,
   "metadata": {},
   "outputs": [],
   "source": []
  },
  {
   "cell_type": "markdown",
   "metadata": {},
   "source": [
    "### os.path.isdir(path)  # 判断一个路径是否是一个目录（文件夹）\n",
    "\n",
    "---\n",
    "### os.path.isfile(path)  # 判断一个路径是否是一个文件\n",
    "\n",
    "---\n",
    "### os.listdir(dir_path)  # 以列表的形式返回一个目录（dir_path只能是目录）下的所有文件（全称）和文件夹名称\n",
    "\n",
    "---\n",
    "### os.remove(file_path)  # 删除指定文件\n",
    "\n",
    "---\n",
    "### os.removedirs(dir_path)  # 删除指定空目录（空文件夹）\n",
    "\n",
    "---\n",
    "### os.path.exists(path)  # 判断一个路径是否存在\n",
    "\n",
    "---\n",
    "### os.mkdir(path)  # 新建一个目录（文件夹）\n",
    "\n",
    "---\n",
    "### os.getcwd()  # 获取当前工作目录\n",
    "\n",
    "---\n",
    "### os.getenv()  # 用来获得环境变量"
   ]
  },
  {
   "cell_type": "code",
   "execution_count": 11,
   "metadata": {
    "ExecuteTime": {
     "end_time": "2019-04-25T13:42:04.196297Z",
     "start_time": "2019-04-25T13:42:04.191309Z"
    }
   },
   "outputs": [
    {
     "data": {
      "text/plain": [
       "'C:\\\\anoconda;C:\\\\anoconda\\\\Library\\\\mingw-w64\\\\bin;C:\\\\anoconda\\\\Library\\\\usr\\\\bin;C:\\\\anoconda\\\\Library\\\\bin;C:\\\\anoconda\\\\Scripts;C:\\\\ProgramData\\\\Oracle\\\\Java\\\\javapath;C:\\\\Windows\\\\system32;C:\\\\Windows;C:\\\\Windows\\\\System32\\\\Wbem;C:\\\\Windows\\\\System32\\\\WindowsPowerShell\\\\v1.0\\\\;C:\\\\Windows\\\\System32\\\\OpenSSH\\\\;C:\\\\Program Files\\\\Java\\\\jdk1.8.0_111\\\\bin;D:\\\\Matlab\\\\runtime\\\\win64;D:\\\\Matlab\\\\bin;C:\\\\Program Files (x86)\\\\Windows Kits\\\\8.1\\\\Windows Performance Toolkit\\\\;D:\\\\Redis\\\\;D:\\\\Git\\\\cmd;C:\\\\MinGW\\\\bin;C:\\\\GnuWin32\\\\bin;C:\\\\Program Files\\\\Microsoft SQL Server\\\\110\\\\DTS\\\\Binn\\\\;C:\\\\Program Files (x86)\\\\Microsoft SQL Server\\\\110\\\\Tools\\\\Binn\\\\;C:\\\\Program Files\\\\Microsoft SQL Server\\\\110\\\\Tools\\\\Binn\\\\;C:\\\\Program Files (x86)\\\\Microsoft SQL Server\\\\110\\\\Tools\\\\Binn\\\\ManagementStudio\\\\;C:\\\\Program Files (x86)\\\\Microsoft Visual Studio 10.0\\\\Common7\\\\IDE\\\\PrivateAssemblies\\\\;C:\\\\Program Files (x86)\\\\Microsoft SQL Server\\\\110\\\\DTS\\\\Binn\\\\;C:\\\\MongoDB\\\\Server\\\\4.0\\\\bin;D:\\\\Ruby25-x64\\\\bin;C:\\\\anoconda;C:\\\\anoconda\\\\Library\\\\mingw-w64\\\\bin;C:\\\\anoconda\\\\Library\\\\usr\\\\bin;C:\\\\anoconda\\\\Library\\\\bin;C:\\\\anoconda\\\\Scripts;C:\\\\Users\\\\郭思正\\\\AppData\\\\Local\\\\Microsoft\\\\WindowsApps;C:\\\\Users\\\\郭思正\\\\AppData\\\\Local\\\\atom\\\\bin;C:\\\\GnuWin32\\\\bin;C:\\\\MinGW\\\\bin;C:\\\\Users\\\\郭思正\\\\AppData\\\\Local\\\\Programs\\\\Microsoft VS Code\\\\bin;C:\\\\Users\\\\郭思正\\\\AppData\\\\Local\\\\GitHubDesktop\\\\bin'"
      ]
     },
     "execution_count": 11,
     "metadata": {},
     "output_type": "execute_result"
    }
   ],
   "source": [
    "os.getenv('PATH')"
   ]
  },
  {
   "cell_type": "markdown",
   "metadata": {},
   "source": [
    "### os.environ  # 可以获取并修改环境变量"
   ]
  },
  {
   "cell_type": "code",
   "execution_count": null,
   "metadata": {},
   "outputs": [],
   "source": [
    "print(os.environ['PATH'])\n",
    "os.environ += '你要添加的环境变量的绝对目录'\n",
    "print(os.environ['PATH'])"
   ]
  },
  {
   "cell_type": "code",
   "execution_count": null,
   "metadata": {},
   "outputs": [],
   "source": []
  },
  {
   "cell_type": "markdown",
   "metadata": {},
   "source": [
    "### os.system()  # 运行Shell或者CMD命令"
   ]
  },
  {
   "cell_type": "code",
   "execution_count": 13,
   "metadata": {
    "ExecuteTime": {
     "end_time": "2019-04-25T13:45:09.411622Z",
     "start_time": "2019-04-25T13:45:09.390639Z"
    }
   },
   "outputs": [
    {
     "name": "stdout",
     "output_type": "stream",
     "text": [
      "1\n"
     ]
    }
   ],
   "source": [
    "os.system('ifconfig')"
   ]
  },
  {
   "cell_type": "code",
   "execution_count": null,
   "metadata": {},
   "outputs": [],
   "source": []
  },
  {
   "cell_type": "markdown",
   "metadata": {},
   "source": [
    "### os.linesep  # 获取当前平台使用的行终止符。例如，Windows使用\\r \\n ，Linux使用\\n 而Mac使用\\r"
   ]
  },
  {
   "cell_type": "code",
   "execution_count": null,
   "metadata": {},
   "outputs": [],
   "source": []
  },
  {
   "cell_type": "markdown",
   "metadata": {},
   "source": [
    "### os.path.split()  # 获得一个列表，list[0]是路径，list[1]是文件名"
   ]
  },
  {
   "cell_type": "code",
   "execution_count": 14,
   "metadata": {
    "ExecuteTime": {
     "end_time": "2019-04-25T13:49:24.697118Z",
     "start_time": "2019-04-25T13:49:24.692132Z"
    }
   },
   "outputs": [
    {
     "name": "stdout",
     "output_type": "stream",
     "text": [
      "D:/game/gtav/bin\n",
      "gtav.exe\n"
     ]
    }
   ],
   "source": [
    "path = 'D:/game/gtav/bin/gtav.exe'\n",
    "print(os.path.split(path)[0])\n",
    "print(os.path.split(path)[1])"
   ]
  },
  {
   "cell_type": "code",
   "execution_count": null,
   "metadata": {},
   "outputs": [],
   "source": []
  },
  {
   "cell_type": "markdown",
   "metadata": {},
   "source": [
    "### os.chdir(dirname)  # 切换工作目录，相当于cd的命令"
   ]
  },
  {
   "cell_type": "code",
   "execution_count": 16,
   "metadata": {
    "ExecuteTime": {
     "end_time": "2019-04-25T13:51:05.390344Z",
     "start_time": "2019-04-25T13:51:05.384360Z"
    }
   },
   "outputs": [
    {
     "name": "stdout",
     "output_type": "stream",
     "text": [
      "C:\\Users\n"
     ]
    }
   ],
   "source": [
    "os.chdir('C:/Users/')\n",
    "print(os.getcwd())"
   ]
  },
  {
   "cell_type": "code",
   "execution_count": null,
   "metadata": {},
   "outputs": [],
   "source": []
  },
  {
   "cell_type": "markdown",
   "metadata": {},
   "source": [
    "### os.path.join(path, name)  # 连接目录和文件名，可以不用自己添加分隔符，能减少bug率提升跨平台性。"
   ]
  },
  {
   "cell_type": "code",
   "execution_count": 17,
   "metadata": {
    "ExecuteTime": {
     "end_time": "2019-04-25T13:53:00.814316Z",
     "start_time": "2019-04-25T13:53:00.809348Z"
    }
   },
   "outputs": [
    {
     "data": {
      "text/plain": [
       "'C:/Users/a.jpg'"
      ]
     },
     "execution_count": 17,
     "metadata": {},
     "output_type": "execute_result"
    }
   ],
   "source": [
    "os.path.join('C:/Users/', 'a.jpg')"
   ]
  },
  {
   "cell_type": "code",
   "execution_count": null,
   "metadata": {},
   "outputs": [],
   "source": []
  },
  {
   "cell_type": "markdown",
   "metadata": {},
   "source": [
    "### os.rename(src, dst)  # 用于重命名文件或目录，从src到dst，如果dst是一个存在的目录，将抛出OSError，无返回值"
   ]
  },
  {
   "cell_type": "code",
   "execution_count": null,
   "metadata": {},
   "outputs": [],
   "source": []
  },
  {
   "cell_type": "code",
   "execution_count": null,
   "metadata": {},
   "outputs": [],
   "source": []
  },
  {
   "cell_type": "code",
   "execution_count": null,
   "metadata": {},
   "outputs": [],
   "source": []
  },
  {
   "cell_type": "code",
   "execution_count": null,
   "metadata": {},
   "outputs": [],
   "source": []
  },
  {
   "cell_type": "code",
   "execution_count": null,
   "metadata": {},
   "outputs": [],
   "source": []
  },
  {
   "cell_type": "code",
   "execution_count": null,
   "metadata": {},
   "outputs": [],
   "source": []
  },
  {
   "cell_type": "code",
   "execution_count": null,
   "metadata": {},
   "outputs": [],
   "source": []
  },
  {
   "cell_type": "code",
   "execution_count": null,
   "metadata": {},
   "outputs": [],
   "source": []
  },
  {
   "cell_type": "code",
   "execution_count": null,
   "metadata": {},
   "outputs": [],
   "source": []
  },
  {
   "cell_type": "code",
   "execution_count": null,
   "metadata": {},
   "outputs": [],
   "source": []
  },
  {
   "cell_type": "code",
   "execution_count": null,
   "metadata": {},
   "outputs": [],
   "source": []
  },
  {
   "cell_type": "code",
   "execution_count": null,
   "metadata": {},
   "outputs": [],
   "source": []
  },
  {
   "cell_type": "code",
   "execution_count": null,
   "metadata": {},
   "outputs": [],
   "source": []
  }
 ],
 "metadata": {
  "kernelspec": {
   "display_name": "Python 3",
   "language": "python",
   "name": "python3"
  },
  "language_info": {
   "codemirror_mode": {
    "name": "ipython",
    "version": 3
   },
   "file_extension": ".py",
   "mimetype": "text/x-python",
   "name": "python",
   "nbconvert_exporter": "python",
   "pygments_lexer": "ipython3",
   "version": "3.7.3"
  }
 },
 "nbformat": 4,
 "nbformat_minor": 2
}
