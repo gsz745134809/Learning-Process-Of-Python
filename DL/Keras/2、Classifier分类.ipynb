{
 "cells": [
  {
   "cell_type": "markdown",
   "metadata": {},
   "source": [
    "今天用 Keras 来构建一个分类神经网络，用到的数据集是 MNIST，就是 0 到 9 这几个数字的图片数据集。"
   ]
  },
  {
   "cell_type": "markdown",
   "metadata": {},
   "source": [
    "---\n",
    "# 数据预处理"
   ]
  },
  {
   "cell_type": "markdown",
   "metadata": {},
   "source": [
    "Keras 自身就有 MNIST 这个数据包，再分成训练集和测试集。```x``` 是一张张图片，```y``` 是每张图片对应的标签，即它是哪个数字。\n",
    "\n",
    "输入的 ```x``` 变成 60,000*784 的数据，然后除以 255 进行标准化，因为每个像素都是在 0 到 255 之间的，标准化之后就变成了 0 到 1 之间。\n",
    "\n",
    "对于 ```y```，要用到 Keras 改造的 ```numpy``` 的一个函数 ```np_utils.to_categorical```，把 ```y``` 变成了 ```one-hot``` 的形式，即之前 ```y``` 是一个数值， 在 0-9 之间，现在是一个大小为 10 的向量，它属于哪个数字，就在哪个位置为 1，其他位置都是 0。"
   ]
  },
  {
   "cell_type": "code",
   "execution_count": 3,
   "metadata": {
    "ExecuteTime": {
     "end_time": "2019-05-12T08:02:12.417122Z",
     "start_time": "2019-05-12T08:02:12.057101Z"
    },
    "scrolled": false
   },
   "outputs": [
    {
     "name": "stdout",
     "output_type": "stream",
     "text": [
      "(784,)\n",
      "[[0. 0. 0. 0. 0. 1. 0. 0. 0. 0.]\n",
      " [1. 0. 0. 0. 0. 0. 0. 0. 0. 0.]\n",
      " [0. 0. 0. 0. 1. 0. 0. 0. 0. 0.]]\n"
     ]
    },
    {
     "data": {
      "text/plain": [
       "'\\n[[ 0.  0.  0.  0.  0.  1.  0.  0.  0.  0.]\\n [ 1.  0.  0.  0.  0.  0.  0.  0.  0.  0.]\\n [ 0.  0.  0.  0.  1.  0.  0.  0.  0.  0.]]\\n'"
      ]
     },
     "execution_count": 3,
     "metadata": {},
     "output_type": "execute_result"
    }
   ],
   "source": [
    "from keras.datasets import mnist\n",
    "from keras import utils as np_utils\n",
    "\n",
    "# download the mnist to the path '~/.keras/datasets/' if it is the first time to be called\n",
    "# X shape (60,000 28x28), y shape (10,000, )\n",
    "(X_train, y_train), (X_test, y_test) = mnist.load_data()\n",
    "\n",
    "# data pre-processing\n",
    "X_train = X_train.reshape(X_train.shape[0], -1) / 255.   # normalize\n",
    "X_test = X_test.reshape(X_test.shape[0], -1) / 255.      # normalize\n",
    "y_train = np_utils.to_categorical(y_train, num_classes=10)\n",
    "y_test = np_utils.to_categorical(y_test, num_classes=10)\n",
    "\n",
    "print(X_train[1].shape)\n",
    "\"\"\"\n",
    "(784,)\n",
    "\"\"\"\n",
    "\n",
    "print(y_train[:3])\n",
    "\"\"\"\n",
    "[[ 0.  0.  0.  0.  0.  1.  0.  0.  0.  0.]\n",
    " [ 1.  0.  0.  0.  0.  0.  0.  0.  0.  0.]\n",
    " [ 0.  0.  0.  0.  1.  0.  0.  0.  0.  0.]]\n",
    "\"\"\""
   ]
  },
  {
   "cell_type": "markdown",
   "metadata": {},
   "source": [
    "---\n",
    "# 建立神经网络 "
   ]
  },
  {
   "cell_type": "markdown",
   "metadata": {},
   "source": [
    "今天会讲到几种不同的方式来建立和训练模型。\n",
    "\n",
    "### 相关的包\n",
    "\n",
    "+ ```models.Sequential```，用来一层一层一层的去建立神经层；\n",
    "+ ```layers.Dense``` 意思是这个神经层是全连接层。\n",
    "+ ```layers.Activation``` 激励函数。\n",
    "+ ```optimizers.RMSprop``` 优化器采用 RMSprop，加速神经网络训练方法。"
   ]
  },
  {
   "cell_type": "code",
   "execution_count": 7,
   "metadata": {
    "ExecuteTime": {
     "end_time": "2019-05-12T08:04:55.410829Z",
     "start_time": "2019-05-12T08:04:55.407520Z"
    }
   },
   "outputs": [],
   "source": [
    "import numpy as np\n",
    "np.random.seed(1337)  # for reproducibility\n",
    "from keras.datasets import mnist\n",
    "from keras.utils import np_utils\n",
    "from keras.models import Sequential\n",
    "from keras.layers import Dense, Activation\n",
    "from keras.optimizers import RMSprop"
   ]
  },
  {
   "cell_type": "markdown",
   "metadata": {},
   "source": [
    "### 建立模型\n",
    "\n",
    "在回归网络中用到的是 ```model.add``` 一层一层添加神经层，今天的方法是直接在模型的里面加多个神经层。好比一个水管，一段一段的，数据是从上面一段掉到下面一段，再掉到下面一段。\n",
    "\n",
    "第一段就是加入 ```Dense``` 神经层。32 是输出的维度，784 是输入的维度。 第一层传出的数据有 32 个 feature，传给激励单元，激励函数用到的是 ```relu``` 函数。 经过激励函数之后，就变成了非线性的数据。 然后再把这个数据传给下一个神经层，这个 ```Dense``` 我们定义它有 10 个输出的 feature。同样的，此处不需要再定义输入的维度，因为它接收的是上一层的输出。 接下来再输入给下面的 ```softmax``` 函数，用来分类。"
   ]
  },
  {
   "cell_type": "code",
   "execution_count": 8,
   "metadata": {
    "ExecuteTime": {
     "end_time": "2019-05-12T08:04:57.780720Z",
     "start_time": "2019-05-12T08:04:57.732645Z"
    }
   },
   "outputs": [
    {
     "name": "stdout",
     "output_type": "stream",
     "text": [
      "WARNING:tensorflow:From /home/sizheng/anaconda3/lib/python3.7/site-packages/tensorflow/python/framework/op_def_library.py:263: colocate_with (from tensorflow.python.framework.ops) is deprecated and will be removed in a future version.\n",
      "Instructions for updating:\n",
      "Colocations handled automatically by placer.\n"
     ]
    }
   ],
   "source": [
    "# Another way to build your neural net\n",
    "model = Sequential([\n",
    "    Dense(32, input_dim=784),\n",
    "    Activation('relu'),\n",
    "    Dense(10),\n",
    "    Activation('softmax'),\n",
    "])"
   ]
  },
  {
   "cell_type": "markdown",
   "metadata": {},
   "source": [
    "接下来用 ```RMSprop``` 作为优化器，它的参数包括学习率等，可以通过修改这些参数来看一下模型的效果。"
   ]
  },
  {
   "cell_type": "code",
   "execution_count": 9,
   "metadata": {
    "ExecuteTime": {
     "end_time": "2019-05-12T08:06:44.543937Z",
     "start_time": "2019-05-12T08:06:44.530323Z"
    }
   },
   "outputs": [],
   "source": [
    "# Another way to define your optimizer\n",
    "rmsprop = RMSprop(lr=0.001, rho=0.9, epsilon=1e-08, decay=0.0)"
   ]
  },
  {
   "cell_type": "markdown",
   "metadata": {},
   "source": [
    "### 激活模型\n",
    "\n",
    "接下来用 ```model.compile``` 激励神经网络。\n",
    "\n",
    "优化器，可以是默认的，也可以是我们在上一步定义的。 损失函数，分类和回归问题的不一样，用的是交叉熵。 ```metrics```，里面可以放入需要计算的 ```cost，accuracy，score``` 等。"
   ]
  },
  {
   "cell_type": "code",
   "execution_count": 10,
   "metadata": {
    "ExecuteTime": {
     "end_time": "2019-05-12T08:07:14.204590Z",
     "start_time": "2019-05-12T08:07:14.183193Z"
    }
   },
   "outputs": [],
   "source": [
    "# We add metrics to get more results you want to see\n",
    "model.compile(optimizer=rmsprop,\n",
    "              loss='categorical_crossentropy',\n",
    "              metrics=['accuracy'])"
   ]
  },
  {
   "cell_type": "markdown",
   "metadata": {},
   "source": [
    "---\n",
    "# 训练网络"
   ]
  },
  {
   "cell_type": "markdown",
   "metadata": {},
   "source": [
    "这里用到的是 ```fit``` 函数，把训练集的 ```x``` 和 ```y``` 传入之后，```nb_epoch``` 表示把整个数据训练多少次，```batch_size``` 每批处理32个。"
   ]
  },
  {
   "cell_type": "code",
   "execution_count": 12,
   "metadata": {
    "ExecuteTime": {
     "end_time": "2019-05-12T08:08:25.373996Z",
     "start_time": "2019-05-12T08:08:22.269342Z"
    }
   },
   "outputs": [
    {
     "name": "stdout",
     "output_type": "stream",
     "text": [
      "Training ------------\n",
      "WARNING:tensorflow:From /home/sizheng/anaconda3/lib/python3.7/site-packages/tensorflow/python/ops/math_ops.py:3066: to_int32 (from tensorflow.python.ops.math_ops) is deprecated and will be removed in a future version.\n",
      "Instructions for updating:\n",
      "Use tf.cast instead.\n",
      "Epoch 1/2\n",
      "60000/60000 [==============================] - 2s 26us/step - loss: 0.3434 - acc: 0.9046\n",
      "Epoch 2/2\n",
      "60000/60000 [==============================] - 1s 23us/step - loss: 0.1948 - acc: 0.9439\n"
     ]
    },
    {
     "data": {
      "text/plain": [
       "'\\nTraining ------------\\nEpoch 1/2\\n60000/60000 [==============================] - 2s - loss: 0.3506 - acc: 0.9025     \\nEpoch 2/2\\n60000/60000 [==============================] - 2s - loss: 0.1995 - acc: 0.9421   \\n'"
      ]
     },
     "execution_count": 12,
     "metadata": {},
     "output_type": "execute_result"
    }
   ],
   "source": [
    "print('Training ------------')\n",
    "# Another way to train the model\n",
    "model.fit(X_train, y_train, epochs=2, batch_size=32)\n",
    "\n",
    "\"\"\"\n",
    "Training ------------\n",
    "Epoch 1/2\n",
    "60000/60000 [==============================] - 2s - loss: 0.3506 - acc: 0.9025     \n",
    "Epoch 2/2\n",
    "60000/60000 [==============================] - 2s - loss: 0.1995 - acc: 0.9421   \n",
    "\"\"\""
   ]
  },
  {
   "cell_type": "markdown",
   "metadata": {},
   "source": [
    "---\n",
    "# 测试模型 "
   ]
  },
  {
   "cell_type": "markdown",
   "metadata": {},
   "source": [
    "接下来就是用测试集来检验一下模型，方法和回归网络中是一样的，运行代码之后，可以输出 ```accuracy``` 和 ```loss```。"
   ]
  },
  {
   "cell_type": "code",
   "execution_count": 13,
   "metadata": {
    "ExecuteTime": {
     "end_time": "2019-05-12T08:09:24.029056Z",
     "start_time": "2019-05-12T08:09:23.900421Z"
    }
   },
   "outputs": [
    {
     "name": "stdout",
     "output_type": "stream",
     "text": [
      "\n",
      "Testing ------------\n",
      "10000/10000 [==============================] - 0s 12us/step\n",
      "test loss:  0.17492957713752985\n",
      "test accuracy:  0.9504\n"
     ]
    },
    {
     "data": {
      "text/plain": [
       "'\\nTesting ------------\\n 9760/10000 [============================>.] - ETA: 0s\\n\\ntest loss:  0.1724540345\\ntest accuracy:  0.9489\\n'"
      ]
     },
     "execution_count": 13,
     "metadata": {},
     "output_type": "execute_result"
    }
   ],
   "source": [
    "print('\\nTesting ------------')\n",
    "# Evaluate the model with the metrics we defined earlier\n",
    "loss, accuracy = model.evaluate(X_test, y_test)\n",
    "\n",
    "print('test loss: ', loss)\n",
    "print('test accuracy: ', accuracy)\n",
    "\n",
    "\"\"\"\n",
    "Testing ------------\n",
    " 9760/10000 [============================>.] - ETA: 0s\n",
    "\n",
    "test loss:  0.1724540345\n",
    "test accuracy:  0.9489\n",
    "\"\"\"\n"
   ]
  },
  {
   "cell_type": "code",
   "execution_count": null,
   "metadata": {},
   "outputs": [],
   "source": []
  },
  {
   "cell_type": "code",
   "execution_count": null,
   "metadata": {},
   "outputs": [],
   "source": []
  }
 ],
 "metadata": {
  "kernelspec": {
   "display_name": "Python 3",
   "language": "python",
   "name": "python3"
  },
  "language_info": {
   "codemirror_mode": {
    "name": "ipython",
    "version": 3
   },
   "file_extension": ".py",
   "mimetype": "text/x-python",
   "name": "python",
   "nbconvert_exporter": "python",
   "pygments_lexer": "ipython3",
   "version": "3.7.3"
  },
  "latex_envs": {
   "LaTeX_envs_menu_present": true,
   "autoclose": false,
   "autocomplete": true,
   "bibliofile": "biblio.bib",
   "cite_by": "apalike",
   "current_citInitial": 1,
   "eqLabelWithNumbers": true,
   "eqNumInitial": 1,
   "hotkeys": {
    "equation": "Ctrl-E",
    "itemize": "Ctrl-I"
   },
   "labels_anchors": false,
   "latex_user_defs": false,
   "report_style_numbering": false,
   "user_envs_cfg": false
  },
  "nbTranslate": {
   "displayLangs": [
    "*"
   ],
   "hotkey": "alt-t",
   "langInMainMenu": true,
   "sourceLang": "en",
   "targetLang": "fr",
   "useGoogleTranslate": true
  }
 },
 "nbformat": 4,
 "nbformat_minor": 2
}
